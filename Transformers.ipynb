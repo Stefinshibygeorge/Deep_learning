{
 "cells": [
  {
   "metadata": {
    "ExecuteTime": {
     "end_time": "2024-06-26T20:49:12.738666Z",
     "start_time": "2024-06-26T20:49:12.735157Z"
    }
   },
   "cell_type": "code",
   "source": [
    "import numpy as np\n",
    "import matplotlib.pyplot as plt\n",
    "import tensorflow as tf"
   ],
   "id": "c81c5a5e6a6656c1",
   "outputs": [],
   "execution_count": 516
  },
  {
   "metadata": {},
   "cell_type": "markdown",
   "source": "# Tokenisation",
   "id": "117f782503396347"
  },
  {
   "metadata": {
    "ExecuteTime": {
     "end_time": "2024-06-26T20:49:13.222115Z",
     "start_time": "2024-06-26T20:49:13.215305Z"
    }
   },
   "cell_type": "code",
   "source": [
    "sentences = [[\"I am a robot\"], [\"you too robot\"]]\n",
    "sentence_data = tf.data.Dataset.from_tensor_slices(sentences)"
   ],
   "id": "4359beb0455e8a1b",
   "outputs": [],
   "execution_count": 517
  },
  {
   "metadata": {
    "ExecuteTime": {
     "end_time": "2024-06-26T20:49:13.287261Z",
     "start_time": "2024-06-26T20:49:13.268848Z"
    }
   },
   "cell_type": "code",
   "source": [
    "for sentence in sentence_data:\n",
    "  print(sentence)"
   ],
   "id": "a6cf6f27186fe043",
   "outputs": [
    {
     "name": "stdout",
     "output_type": "stream",
     "text": [
      "tf.Tensor([b'I am a robot'], shape=(1,), dtype=string)\n",
      "tf.Tensor([b'you too robot'], shape=(1,), dtype=string)\n"
     ]
    }
   ],
   "execution_count": 518
  },
  {
   "metadata": {
    "ExecuteTime": {
     "end_time": "2024-06-26T20:49:13.341500Z",
     "start_time": "2024-06-26T20:49:13.336100Z"
    }
   },
   "cell_type": "code",
   "source": [
    "output_sequence_length = 5\n",
    "vocab_size = 10"
   ],
   "id": "f9bcf12f975b78cd",
   "outputs": [],
   "execution_count": 519
  },
  {
   "metadata": {
    "ExecuteTime": {
     "end_time": "2024-06-26T20:49:13.450480Z",
     "start_time": "2024-06-26T20:49:13.374339Z"
    }
   },
   "cell_type": "code",
   "source": [
    "#create/initialise text_vectorisation layer,\n",
    "#adapt with the corpus --> creates the vocabulary\n",
    "vectorize_layer = tf.keras.layers.TextVectorization(output_sequence_length=output_sequence_length,\n",
    "                                                    max_tokens=vocab_size)\n",
    "\n",
    "vectorize_layer.adapt(sentence_data)\n",
    "\n",
    "\n",
    "# convert the corpus to tensors and apply text vectorisation\n",
    "word_tensors = tf.convert_to_tensor(sentences, dtype=tf.string)\n",
    "vectorized_words = vectorize_layer(word_tensors)\n",
    "\n",
    "print(\"Vocabulary: \", vectorize_layer.get_vocabulary())\n",
    "print(\"Vectorized words: \", vectorized_words)"
   ],
   "id": "7b67adb8d29567ee",
   "outputs": [
    {
     "name": "stdout",
     "output_type": "stream",
     "text": [
      "Vocabulary:  ['', '[UNK]', 'robot', 'you', 'too', 'i', 'am', 'a']\n",
      "Vectorized words:  tf.Tensor(\n",
      "[[5 6 7 2 0]\n",
      " [3 4 2 0 0]], shape=(2, 5), dtype=int64)\n"
     ]
    }
   ],
   "execution_count": 520
  },
  {
   "metadata": {},
   "cell_type": "markdown",
   "source": "# Embedding",
   "id": "d6d1d2b0e8342bd6"
  },
  {
   "metadata": {},
   "cell_type": "markdown",
   "source": "###  -->Word Embedding",
   "id": "1fac7d438fdc75d"
  },
  {
   "metadata": {
    "ExecuteTime": {
     "end_time": "2024-06-26T20:49:13.481205Z",
     "start_time": "2024-06-26T20:49:13.468139Z"
    }
   },
   "cell_type": "code",
   "source": [
    "output_length = 6\n",
    "word_embeddings = tf.keras.layers.Embedding(vocab_size,\n",
    "                                            output_length)(vectorized_words)\n",
    "\n",
    "word_embeddings"
   ],
   "id": "846cfd4e4aab645f",
   "outputs": [
    {
     "data": {
      "text/plain": [
       "<tf.Tensor: shape=(2, 5, 6), dtype=float32, numpy=\n",
       "array([[[ 0.03167163, -0.04952272, -0.04794666,  0.02611239,\n",
       "          0.02934733,  0.04795008],\n",
       "        [-0.03474723,  0.02977958, -0.03181241, -0.00794015,\n",
       "          0.03685865,  0.02621522],\n",
       "        [ 0.00940009,  0.01170569, -0.03331248, -0.01974404,\n",
       "         -0.02249264, -0.04512664],\n",
       "        [-0.04366962, -0.02670287, -0.01673762, -0.02526914,\n",
       "          0.01017291,  0.00248295],\n",
       "        [ 0.02201715,  0.02763268, -0.00553905,  0.01229342,\n",
       "         -0.02763056,  0.02378296]],\n",
       "\n",
       "       [[ 0.04913486, -0.00653858, -0.03732774,  0.00185645,\n",
       "          0.04200152,  0.02859441],\n",
       "        [ 0.02943682,  0.00413144,  0.04743451, -0.01418223,\n",
       "         -0.00262751, -0.04147611],\n",
       "        [-0.04366962, -0.02670287, -0.01673762, -0.02526914,\n",
       "          0.01017291,  0.00248295],\n",
       "        [ 0.02201715,  0.02763268, -0.00553905,  0.01229342,\n",
       "         -0.02763056,  0.02378296],\n",
       "        [ 0.02201715,  0.02763268, -0.00553905,  0.01229342,\n",
       "         -0.02763056,  0.02378296]]], dtype=float32)>"
      ]
     },
     "execution_count": 521,
     "metadata": {},
     "output_type": "execute_result"
    }
   ],
   "execution_count": 521
  },
  {
   "metadata": {},
   "cell_type": "markdown",
   "source": "### -->Position Embedding",
   "id": "1fe4806e3da22d01"
  },
  {
   "metadata": {
    "ExecuteTime": {
     "end_time": "2024-06-26T20:49:13.530134Z",
     "start_time": "2024-06-26T20:49:13.519065Z"
    }
   },
   "cell_type": "code",
   "source": [
    "embedded_indices = tf.keras.layers.Embedding(output_sequence_length,\n",
    "                                             output_length)(tf.range(output_sequence_length))\n",
    "\n",
    "embedded_indices"
   ],
   "id": "a0cd0ae4bef487c0",
   "outputs": [
    {
     "data": {
      "text/plain": [
       "<tf.Tensor: shape=(5, 6), dtype=float32, numpy=\n",
       "array([[-0.01126494,  0.01066749,  0.02815067, -0.04247589, -0.00880954,\n",
       "         0.04913098],\n",
       "       [ 0.00888135,  0.02330451, -0.04036446, -0.01577993,  0.03581004,\n",
       "        -0.02546831],\n",
       "       [-0.02281272, -0.00611918, -0.04307184,  0.03463943,  0.02399763,\n",
       "         0.00630451],\n",
       "       [-0.01602601,  0.04293182,  0.01473704, -0.03722953,  0.02794535,\n",
       "         0.04872229],\n",
       "       [-0.02760533,  0.00557898, -0.04482066,  0.00305083, -0.00438995,\n",
       "        -0.00699453]], dtype=float32)>"
      ]
     },
     "execution_count": 522,
     "metadata": {},
     "output_type": "execute_result"
    }
   ],
   "execution_count": 522
  },
  {
   "metadata": {
    "ExecuteTime": {
     "end_time": "2024-06-26T20:49:13.640821Z",
     "start_time": "2024-06-26T20:49:13.633977Z"
    }
   },
   "cell_type": "code",
   "source": [
    "final_output_embedding = word_embeddings + embedded_indices\n",
    "print(\"Final output: \\n\", final_output_embedding)\n"
   ],
   "id": "initial_id",
   "outputs": [
    {
     "name": "stdout",
     "output_type": "stream",
     "text": [
      "Final output: \n",
      " tf.Tensor(\n",
      "[[[ 0.02040669 -0.03885523 -0.01979599 -0.0163635   0.02053778\n",
      "    0.09708106]\n",
      "  [-0.02586588  0.05308409 -0.07217686 -0.02372009  0.07266869\n",
      "    0.00074691]\n",
      "  [-0.01341263  0.0055865  -0.07638432  0.01489539  0.00150499\n",
      "   -0.03882213]\n",
      "  [-0.05969563  0.01622895 -0.00200057 -0.06249867  0.03811827\n",
      "    0.05120524]\n",
      "  [-0.00558818  0.03321166 -0.0503597   0.01534425 -0.03202051\n",
      "    0.01678842]]\n",
      "\n",
      " [[ 0.03786992  0.00412891 -0.00917708 -0.04061944  0.03319198\n",
      "    0.07772539]\n",
      "  [ 0.03831817  0.02743595  0.00707006 -0.02996217  0.03318253\n",
      "   -0.06694442]\n",
      "  [-0.06648234 -0.03282205 -0.05980946  0.00937029  0.03417055\n",
      "    0.00878746]\n",
      "  [ 0.00599114  0.0705645   0.009198   -0.02493611  0.00031479\n",
      "    0.07250525]\n",
      "  [-0.00558818  0.03321166 -0.0503597   0.01534425 -0.03202051\n",
      "    0.01678842]]], shape=(2, 5, 6), dtype=float32)\n"
     ]
    }
   ],
   "execution_count": 523
  },
  {
   "metadata": {
    "ExecuteTime": {
     "end_time": "2024-06-26T20:49:13.660389Z",
     "start_time": "2024-06-26T20:49:13.654349Z"
    }
   },
   "cell_type": "code",
   "source": [
    "class PositionEmbeddingLayer(tf.keras.layers.Layer):\n",
    "    def __init__(self, \n",
    "                 sequence_length, \n",
    "                 vocab_size, \n",
    "                 output_dim, \n",
    "                 **kwargs):\n",
    "        super(PositionEmbeddingLayer, self).__init__(**kwargs)\n",
    "        self.word_embedding_layer = tf.keras.layers.Embedding( input_dim=vocab_size,\n",
    "                                                              output_dim=output_dim)\n",
    "\n",
    "\n",
    "        self.position_embedding_layer = tf.keras.layers.Embedding(input_dim=sequence_length,\n",
    "                                                                  output_dim=output_dim)\n",
    "\n",
    "\n",
    "    def call(self, inputs):\n",
    "        embedded_words = self.word_embedding_layer(inputs)\n",
    "        embedded_indices = self.position_embedding_layer(tf.range(tf.shape(inputs)[-1]))\n",
    "        return embedded_words + embedded_indices\n"
   ],
   "id": "10e4b5467afb37dc",
   "outputs": [],
   "execution_count": 524
  },
  {
   "metadata": {
    "ExecuteTime": {
     "end_time": "2024-06-26T20:49:13.710938Z",
     "start_time": "2024-06-26T20:49:13.697202Z"
    }
   },
   "cell_type": "code",
   "source": [
    "my_embedding_layer = PositionEmbeddingLayer(output_sequence_length,\n",
    "                                            vocab_size, \n",
    "                                            output_length)\n",
    "embedded_layer_output = my_embedding_layer(vectorized_words)\n",
    "print(\"Output from my_embedded_layer: \", embedded_layer_output)"
   ],
   "id": "7787acbdaa33b70d",
   "outputs": [
    {
     "name": "stdout",
     "output_type": "stream",
     "text": [
      "Output from my_embedded_layer:  tf.Tensor(\n",
      "[[[ 3.5010695e-02 -2.9602397e-02 -5.3076137e-02  1.2216736e-02\n",
      "    3.7246767e-02  4.7323301e-02]\n",
      "  [ 1.9252300e-04 -2.6501700e-02 -2.5653269e-02 -1.0132790e-05\n",
      "    7.0237368e-03  5.0237231e-02]\n",
      "  [-6.2478278e-02  5.6989245e-02  2.7659021e-02  2.9652059e-02\n",
      "    3.9435610e-02  5.8232080e-02]\n",
      "  [-4.6056025e-03  2.4624743e-02  3.7611239e-03 -6.3243747e-02\n",
      "   -4.0564597e-02 -7.7746354e-02]\n",
      "  [-4.0049054e-02 -1.1310365e-02 -9.1423243e-03  5.5149309e-02\n",
      "    8.9205481e-02  7.3570438e-02]]\n",
      "\n",
      " [[ 6.0119726e-02 -9.1447122e-03 -9.9036857e-02  5.1655337e-02\n",
      "    4.4328574e-02 -4.1023064e-02]\n",
      "  [ 1.9141994e-02  5.2524880e-02 -8.1078626e-02 -4.3377772e-02\n",
      "    4.3600786e-02  6.7849219e-02]\n",
      "  [-8.7083176e-02  2.8899848e-02  2.5779877e-02 -3.6308315e-02\n",
      "    3.4636710e-02 -3.1675480e-02]\n",
      "  [ 4.2637922e-02  1.9895602e-02  9.4438083e-03  6.3751973e-03\n",
      "   -5.5006407e-03 -6.2090717e-03]\n",
      "  [-4.0049054e-02 -1.1310365e-02 -9.1423243e-03  5.5149309e-02\n",
      "    8.9205481e-02  7.3570438e-02]]], shape=(2, 5, 6), dtype=float32)\n"
     ]
    }
   ],
   "execution_count": 525
  },
  {
   "metadata": {},
   "cell_type": "markdown",
   "source": "# Positional Encoding",
   "id": "7e6ffc8272cb4c5b"
  },
  {
   "metadata": {
    "ExecuteTime": {
     "end_time": "2024-06-26T20:49:13.790407Z",
     "start_time": "2024-06-26T20:49:13.782167Z"
    }
   },
   "cell_type": "code",
   "source": [
    "def get_positional_encoding(seq_len,d, n = 10000):\n",
    "\n",
    "    P = np.zeros((seq_len,d))\n",
    "\n",
    "    for k in range(seq_len):\n",
    "        for i in range(d//2):\n",
    "            P[k, 2*i] = np.sin(k/(np.power(n,2*i/d)))\n",
    "            P[k, 2*i + 1] = np.cos(k/(np.power(n,2*i/d)))\n",
    "\n",
    "    return P\n",
    "\n",
    "get_positional_encoding(4,4)"
   ],
   "id": "30c2afa52c9aba26",
   "outputs": [
    {
     "data": {
      "text/plain": [
       "array([[ 0.        ,  1.        ,  0.        ,  1.        ],\n",
       "       [ 0.84147098,  0.54030231,  0.00999983,  0.99995   ],\n",
       "       [ 0.90929743, -0.41614684,  0.01999867,  0.99980001],\n",
       "       [ 0.14112001, -0.9899925 ,  0.0299955 ,  0.99955003]])"
      ]
     },
     "execution_count": 526,
     "metadata": {},
     "output_type": "execute_result"
    }
   ],
   "execution_count": 526
  },
  {
   "metadata": {
    "ExecuteTime": {
     "end_time": "2024-06-26T20:49:14.160596Z",
     "start_time": "2024-06-26T20:49:13.843514Z"
    }
   },
   "cell_type": "code",
   "source": [
    "P = get_positional_encoding(seq_len=100, d=512, n=10000)\n",
    "plt.matshow(P)"
   ],
   "id": "c3a58441a4e0f730",
   "outputs": [
    {
     "data": {
      "text/plain": [
       "<matplotlib.image.AxesImage at 0x2135ef0fdd0>"
      ]
     },
     "execution_count": 527,
     "metadata": {},
     "output_type": "execute_result"
    },
    {
     "data": {
      "text/plain": [
       "<Figure size 1600x312.5 with 1 Axes>"
      ],
      "image/png": "[encoded data removed]"
     },
     "metadata": {},
     "output_type": "display_data"
    }
   ],
   "execution_count": 527
  },
  {
   "metadata": {
    "ExecuteTime": {
     "end_time": "2024-06-26T20:49:14.169077Z",
     "start_time": "2024-06-26T20:49:14.161609Z"
    }
   },
   "cell_type": "code",
   "source": [
    "class PositionEmbeddingFixedWeights(tf.keras.layers.Layer):\n",
    "    def __init__(self, sequence_length, vocab_size, output_dim, **kwargs):\n",
    "        super(PositionEmbeddingFixedWeights, self).__init__(**kwargs)\n",
    "\n",
    "        word_embedding_matrix     = self.get_position_encoding(vocab_size,\n",
    "                                                               output_dim)\n",
    "\n",
    "        position_embedding_matrix = self.get_position_encoding(sequence_length,\n",
    "                                                               output_dim)\n",
    "\n",
    "        self.word_embedding_layer = tf.keras.layers.Embedding(input_dim=vocab_size,\n",
    "                                                              output_dim=output_dim,\n",
    "                                                              weights=[word_embedding_matrix],\n",
    "                                                              trainable=False)\n",
    "\n",
    "        self.position_embedding_layer = tf.keras.layers.Embedding(input_dim=sequence_length,\n",
    "                                                                  output_dim=output_dim,\n",
    "                                                                  weights=[position_embedding_matrix],\n",
    "                                                                  trainable=False)\n",
    "\n",
    "\n",
    "    def get_position_encoding(self, seq_len, d, n=10000):\n",
    "        P = np.zeros((seq_len, d))\n",
    "        for k in range(seq_len):\n",
    "            for i in np.arange(int(d/2)):\n",
    "                denominator = np.power(n, 2*i/d)\n",
    "                P[k, 2*i] = np.sin(k/denominator)\n",
    "                P[k, 2*i+1] = np.cos(k/denominator)\n",
    "        return P\n",
    "\n",
    "\n",
    "    def call(self, inputs):\n",
    "        embedded_words = self.word_embedding_layer(inputs)\n",
    "        embedded_indices = self.position_embedding_layer(tf.range(tf.shape(inputs)[-1]))\n",
    "        return embedded_words + embedded_indices"
   ],
   "id": "daf80f06c289cd7",
   "outputs": [],
   "execution_count": 528
  },
  {
   "metadata": {
    "ExecuteTime": {
     "end_time": "2024-06-26T20:49:14.185685Z",
     "start_time": "2024-06-26T20:49:14.170091Z"
    }
   },
   "cell_type": "code",
   "source": [
    "attnisallyouneed_embedding = PositionEmbeddingFixedWeights(output_sequence_length,\n",
    "                                                           vocab_size,\n",
    "                                                           output_length)\n",
    "\n",
    "attnisallyouneed_output = attnisallyouneed_embedding(vectorized_words)\n",
    "\n",
    "print(\"Output from my_embedded_layer: \", attnisallyouneed_output)"
   ],
   "id": "1c812565da4c7fa8",
   "outputs": [
    {
     "name": "stdout",
     "output_type": "stream",
     "text": [
      "Output from my_embedded_layer:  tf.Tensor(\n",
      "[[[-0.9589243   1.2836622   0.23000172  1.9731903   0.01077196\n",
      "    1.9999421 ]\n",
      "  [ 0.56205547  1.5004725   0.3213085   1.9603932   0.01508068\n",
      "    1.9999142 ]\n",
      "  [ 1.566284    0.3377554   0.41192317  1.9433732   0.01938933\n",
      "    1.999877  ]\n",
      "  [ 1.0504174  -1.4061394   0.2314966   1.9860148   0.01077211\n",
      "    1.9999698 ]\n",
      "  [-0.7568025   0.3463564   0.18459873  1.982814    0.00861763\n",
      "    1.9999628 ]]\n",
      "\n",
      " [[ 0.14112     0.0100075   0.1387981   1.9903207   0.00646326\n",
      "    1.9999791 ]\n",
      "  [ 0.08466846 -0.11334133  0.23099795  1.9817369   0.01077207\n",
      "    1.9999605 ]\n",
      "  [ 1.8185948  -0.8322937   0.185397    1.9913884   0.00861771\n",
      "    1.9999814 ]\n",
      "  [ 0.14112     0.0100075   0.1387981   1.9903207   0.00646326\n",
      "    1.9999791 ]\n",
      "  [-0.7568025   0.3463564   0.18459873  1.982814    0.00861763\n",
      "    1.9999628 ]]], shape=(2, 5, 6), dtype=float32)\n"
     ]
    }
   ],
   "execution_count": 529
  },
  {
   "metadata": {
    "ExecuteTime": {
     "end_time": "2024-06-26T20:49:14.341417Z",
     "start_time": "2024-06-26T20:49:14.187691Z"
    }
   },
   "cell_type": "code",
   "source": [
    "technical_phrase = \"to understand machine learning algorithms you need\" +\\\n",
    "                   \" to understand concepts such as gradient of a function \"+\\\n",
    "                   \"Hessians of a matrix and optimization etc\"\n",
    "wise_phrase = \"patrick henry said give me liberty or give me death \"+\\\n",
    "              \"when he addressed the second virginia convention in march\"\n",
    "\n",
    "total_vocabulary = 200\n",
    "sequence_length = 20\n",
    "final_output_len = 50\n",
    "\n",
    "phrase_vectorization_layer = tf.keras.layers.TextVectorization(output_sequence_length=sequence_length,\n",
    "                                                               max_tokens=total_vocabulary)\n",
    "\n",
    "phrase_vectorization_layer.adapt([technical_phrase, wise_phrase])\n",
    "\n",
    "phrase_tensors = tf.convert_to_tensor([technical_phrase, wise_phrase],\n",
    "                                      dtype=tf.string)\n",
    "\n",
    "\n",
    "vectorized_phrases = phrase_vectorization_layer(phrase_tensors)\n",
    "\n",
    "random_weights_embedding_layer = PositionEmbeddingLayer(sequence_length,\n",
    "                                                        total_vocabulary,\n",
    "                                                        final_output_len)\n",
    "fixed_weights_embedding_layer = PositionEmbeddingFixedWeights(sequence_length,\n",
    "                                                        total_vocabulary,\n",
    "                                                        final_output_len)\n",
    "random_embedding = random_weights_embedding_layer(vectorized_phrases)\n",
    "fixed_embedding = fixed_weights_embedding_layer(vectorized_phrases)"
   ],
   "id": "bf55cf5919835887",
   "outputs": [],
   "execution_count": 530
  },
  {
   "metadata": {
    "ExecuteTime": {
     "end_time": "2024-06-26T20:49:14.578302Z",
     "start_time": "2024-06-26T20:49:14.342431Z"
    }
   },
   "cell_type": "code",
   "source": [
    "fig = plt.figure(figsize=(15, 5))\n",
    "title = [\"Tech Phrase\", \"Wise Phrase\"]\n",
    "for i in range(2):\n",
    "    ax = plt.subplot(1, 2, 1+i)\n",
    "    matrix = tf.reshape(random_embedding[i, :, :], (sequence_length, final_output_len))\n",
    "    cax = ax.matshow(matrix)\n",
    "    plt.gcf().colorbar(cax)\n",
    "    plt.title(title[i], y=1.2)\n",
    "fig.suptitle(\"Random Embedding\")\n",
    "plt.show()"
   ],
   "id": "9fbb3c57d9cf865d",
   "outputs": [
    {
     "data": {
      "text/plain": [
       "<Figure size 1500x500 with 4 Axes>"
      ],
      "image/png": "[encoded data removed]"
     },
     "metadata": {},
     "output_type": "display_data"
    }
   ],
   "execution_count": 531
  },
  {
   "metadata": {},
   "cell_type": "markdown",
   "source": "# Attention",
   "id": "4c9fe1a25b1f0cde"
  },
  {
   "metadata": {},
   "cell_type": "markdown",
   "source": "### --> Dot_Product Attention",
   "id": "505be6398c041774"
  },
  {
   "metadata": {
    "ExecuteTime": {
     "end_time": "2024-06-26T20:49:14.585193Z",
     "start_time": "2024-06-26T20:49:14.579305Z"
    }
   },
   "cell_type": "code",
   "source": [
    "class DotProductAttention(tf.keras.layers.Layer):\n",
    "    def __init__(self, **kwargs):\n",
    "        super(DotProductAttention, self).__init__(**kwargs)\n",
    "\n",
    "    def call(self, queries, keys, values, d_k, mask=None):\n",
    "        scores = tf.matmul(queries, keys, transpose_b=True) / tf.math.sqrt(tf.cast(d_k, tf.float32))\n",
    "\n",
    "        if mask is not None:\n",
    "            scores += -1e9 * mask\n",
    "\n",
    "        weights = tf.nn.softmax(scores)\n",
    "        return tf.matmul(weights, values)"
   ],
   "id": "dac11b54aed1af1d",
   "outputs": [],
   "execution_count": 532
  },
  {
   "metadata": {},
   "cell_type": "markdown",
   "source": "### --> Multi_head Attention",
   "id": "c402fb29bd501d99"
  },
  {
   "metadata": {
    "ExecuteTime": {
     "end_time": "2024-06-26T20:49:14.598488Z",
     "start_time": "2024-06-26T20:49:14.586198Z"
    }
   },
   "cell_type": "code",
   "source": [
    "class MultiHeadAttention(tf.keras.layers.Layer):\n",
    "    def __init__(self,\n",
    "                 d_q,\n",
    "                 d_k,\n",
    "                 d_v,\n",
    "                 d_model,\n",
    "                 heads,\n",
    "                 **kwargs):\n",
    "\n",
    "        super(MultiHeadAttention,self).__init__(**kwargs)\n",
    "        self.attention = DotProductAttention()\n",
    "\n",
    "        self.d_q = d_q\n",
    "        self.d_k = d_k\n",
    "        self.d_v = d_v\n",
    "        self.heads = heads\n",
    "\n",
    "        self.W_q = tf.keras.layers.Dense(d_q)  #query weights\n",
    "        self.W_k = tf.keras.layers.Dense(d_k)  #key weights\n",
    "        self.W_v = tf.keras.layers.Dense(d_v)  #value weights\n",
    "        self.W_o = tf.keras.layers.Dense(d_model)\n",
    "\n",
    "\n",
    "\n",
    "\n",
    "    def reshape_tensor(self,\n",
    "                       x,\n",
    "                       heads,\n",
    "                       flag):\n",
    "\n",
    "        #input shape = (batch_size,sequence_length,dimension_of _model)\n",
    "        #output shape = (batch_size, heads, seq_length, -1)\n",
    "\n",
    "        if flag:\n",
    "            x = tf.reshape(x,shape = (\n",
    "                                    tf.shape(x)[0],\n",
    "                                    tf.shape(x)[1],\n",
    "                                    heads,\n",
    "                                    -1) # -1 automatically decides to preserve the no of elements\n",
    "                        )\n",
    "            x = tf.transpose(x,perm =(0,2,1,3))\n",
    "        else:\n",
    "            x = tf.transpose(x,perm =(0,2,1,3))\n",
    "            x = tf.reshape(x,shape = (\n",
    "                                    tf.shape(x)[0],\n",
    "                                    tf.shape(x)[1],\n",
    "                                    self.d_k)\n",
    "                          )\n",
    "        return x\n",
    "\n",
    "    def call(self, queries, keys, values, mask=None):\n",
    "\n",
    "        q_reshaped = self.reshape_tensor(self.W_q(queries), self.heads, True)\n",
    "        k_reshaped = self.reshape_tensor(self.W_k(keys), self.heads, True)\n",
    "        v_reshaped = self.reshape_tensor(self.W_v(values), self.heads, True)\n",
    "\n",
    "        o_reshaped = self.attention(q_reshaped, k_reshaped, v_reshaped, self.d_k, mask)\n",
    "\n",
    "        output = self.reshape_tensor(o_reshaped, self.heads, False)\n",
    "\n",
    "        return self.W_o(output)"
   ],
   "id": "7c4760610f86c5f2",
   "outputs": [],
   "execution_count": 533
  },
  {
   "metadata": {
    "ExecuteTime": {
     "end_time": "2024-06-26T20:49:14.636731Z",
     "start_time": "2024-06-26T20:49:14.599497Z"
    }
   },
   "cell_type": "code",
   "source": [
    "heads = 8  # Number of self-attention heads\n",
    "d_q = d_k = 64  # Dimensionality of the linearly projected queries and keys\n",
    "d_v = 64  # Dimensionality of the linearly projected values\n",
    "d_model = 512  # Dimensionality of the model sub-layers' outputs\n",
    "batch_size = 64  # Batch size from the training process\n",
    "input_seq_length = 5  # Maximum length of the input sequence\n",
    "\n",
    "queries = np.random.random((batch_size,\n",
    "                            input_seq_length,\n",
    "                            d_q))\n",
    "\n",
    "keys = np.random.random((batch_size,\n",
    "                         input_seq_length,\n",
    "                         d_k))\n",
    "\n",
    "values = np.random.random((batch_size,\n",
    "                           input_seq_length,\n",
    "                           d_v))\n",
    "\n",
    "multihead_attention = MultiHeadAttention(d_q,\n",
    "                                         d_k,\n",
    "                                         d_v,\n",
    "                                         d_model,\n",
    "                                         heads)\n",
    "\n",
    "multihead_attention(queries, keys, values)"
   ],
   "id": "dea54d478ed57fe3",
   "outputs": [
    {
     "data": {
      "text/plain": [
       "<tf.Tensor: shape=(64, 5, 512), dtype=float32, numpy=\n",
       "array([[[ 0.09958082, -0.30331114, -0.00628683, ..., -0.11963674,\n",
       "         -0.02470945,  0.22953121],\n",
       "        [ 0.09602682, -0.30589756, -0.00502438, ..., -0.1219731 ,\n",
       "         -0.02500984,  0.22941016],\n",
       "        [ 0.09801193, -0.30555493, -0.00499082, ..., -0.1253076 ,\n",
       "         -0.02575686,  0.23018739],\n",
       "        [ 0.09771055, -0.30593023, -0.00696616, ..., -0.12390987,\n",
       "         -0.02664315,  0.23258223],\n",
       "        [ 0.09898121, -0.30439138, -0.00624253, ..., -0.12454745,\n",
       "         -0.02498946,  0.23178704]],\n",
       "\n",
       "       [[ 0.24961464, -0.20643628, -0.03025011, ..., -0.13384676,\n",
       "          0.03895667,  0.2272135 ],\n",
       "        [ 0.24929695, -0.20839827, -0.02710361, ..., -0.13432698,\n",
       "          0.03386808,  0.22655736],\n",
       "        [ 0.25228518, -0.2083941 , -0.03079689, ..., -0.13676098,\n",
       "          0.03378437,  0.23065782],\n",
       "        [ 0.2525365 , -0.20713976, -0.02874375, ..., -0.13552639,\n",
       "          0.03469865,  0.22745514],\n",
       "        [ 0.2506878 , -0.20924754, -0.02856296, ..., -0.13588792,\n",
       "          0.03308081,  0.22618754]],\n",
       "\n",
       "       [[ 0.21044926, -0.326607  , -0.01564594, ..., -0.11105991,\n",
       "          0.07283328,  0.24508175],\n",
       "        [ 0.21405272, -0.32308933, -0.0182085 , ..., -0.11012399,\n",
       "          0.07337326,  0.24874946],\n",
       "        [ 0.21117988, -0.322442  , -0.01475749, ..., -0.10765788,\n",
       "          0.06862354,  0.24176519],\n",
       "        [ 0.21123233, -0.32708013, -0.01577794, ..., -0.11048301,\n",
       "          0.07241751,  0.24486431],\n",
       "        [ 0.2119064 , -0.3241724 , -0.0182106 , ..., -0.11184781,\n",
       "          0.07092229,  0.24819209]],\n",
       "\n",
       "       ...,\n",
       "\n",
       "       [[ 0.12811442, -0.23391838, -0.08765709, ..., -0.08656095,\n",
       "          0.15380582,  0.22697356],\n",
       "        [ 0.12927   , -0.23445155, -0.09133758, ..., -0.09119602,\n",
       "          0.15274365,  0.23043889],\n",
       "        [ 0.1302317 , -0.23486403, -0.08772257, ..., -0.08943977,\n",
       "          0.1520509 ,  0.22936529],\n",
       "        [ 0.1298151 , -0.23302832, -0.09118884, ..., -0.08821018,\n",
       "          0.15290916,  0.22967209],\n",
       "        [ 0.13118717, -0.23303285, -0.09259997, ..., -0.09079843,\n",
       "          0.15478489,  0.23231927]],\n",
       "\n",
       "       [[ 0.23799065, -0.20144826,  0.00324932, ..., -0.11746453,\n",
       "          0.06489182,  0.23530446],\n",
       "        [ 0.2384038 , -0.20111184,  0.00344843, ..., -0.11881094,\n",
       "          0.06469539,  0.23657863],\n",
       "        [ 0.23498198, -0.20337145,  0.0050643 , ..., -0.11444295,\n",
       "          0.06436051,  0.23309828],\n",
       "        [ 0.23562133, -0.20423661,  0.0034273 , ..., -0.11669421,\n",
       "          0.06176987,  0.23475532],\n",
       "        [ 0.23593742, -0.20634592,  0.00389111, ..., -0.11770666,\n",
       "          0.06202215,  0.23566835]],\n",
       "\n",
       "       [[ 0.05845947, -0.23600724, -0.03675532, ..., -0.15108207,\n",
       "         -0.03075698,  0.3539269 ],\n",
       "        [ 0.05439769, -0.23775695, -0.03946305, ..., -0.15375449,\n",
       "         -0.03307774,  0.35215008],\n",
       "        [ 0.05899309, -0.2361337 , -0.03685897, ..., -0.15308392,\n",
       "         -0.02936533,  0.3523317 ],\n",
       "        [ 0.05935923, -0.2380714 , -0.03801557, ..., -0.1547735 ,\n",
       "         -0.02961096,  0.35158476],\n",
       "        [ 0.05846916, -0.23310785, -0.03714008, ..., -0.15355061,\n",
       "         -0.02837056,  0.3530689 ]]], dtype=float32)>"
      ]
     },
     "execution_count": 534,
     "metadata": {},
     "output_type": "execute_result"
    }
   ],
   "execution_count": 534
  },
  {
   "metadata": {},
   "cell_type": "markdown",
   "source": "# Feed Forward Neural Network",
   "id": "e48d68a82004a3a4"
  },
  {
   "metadata": {
    "ExecuteTime": {
     "end_time": "2024-06-26T20:49:14.642429Z",
     "start_time": "2024-06-26T20:49:14.637740Z"
    }
   },
   "cell_type": "code",
   "source": [
    "class feed_forward_network(tf.keras.layers.Layer):\n",
    "    def __init__(self,d_ff1,d_ff2):\n",
    "        super().__init__()\n",
    "\n",
    "        self.fully_connected_layer_1 = tf.keras.layers.Dense(d_ff1)\n",
    "        self.fully_connected_layer_2 = tf.keras.layers.Dense(d_ff2)\n",
    "        self.activation = tf.keras.layers.ReLU() \n",
    "\n",
    "    def call(self,inputs):\n",
    "        ff1 =  self.activation(self.fully_connected_layer_1(inputs))\n",
    "        ff2 =  self.fully_connected_layer_2(ff1)\n",
    "        return ff2"
   ],
   "id": "f5bd0a3541abdee0",
   "outputs": [],
   "execution_count": 535
  },
  {
   "metadata": {
    "ExecuteTime": {
     "end_time": "2024-06-26T20:49:14.656939Z",
     "start_time": "2024-06-26T20:49:14.644437Z"
    }
   },
   "cell_type": "code",
   "source": [
    "d_ff1 = 128\n",
    "d_ff2 = 64\n",
    "\n",
    "batch_size = 32\n",
    "input_dim = 10\n",
    "random_data = tf.random.normal(shape=(batch_size, input_dim))\n",
    "\n",
    "feed_forward_layer = feed_forward_network(d_ff1, d_ff2)\n",
    "output = feed_forward_layer(random_data)\n",
    "\n",
    "output\n"
   ],
   "id": "4d90e205e8cbbbb1",
   "outputs": [
    {
     "data": {
      "text/plain": [
       "<tf.Tensor: shape=(32, 64), dtype=float32, numpy=\n",
       "array([[ 0.11321207, -0.09652776, -0.1388109 , ...,  0.09073672,\n",
       "        -0.14162116,  0.1581713 ],\n",
       "       [-0.10610154, -0.07236819,  0.40199843, ..., -0.20252632,\n",
       "        -0.02345253, -0.68634874],\n",
       "       [ 0.25434545,  0.03048793, -0.26024717, ...,  0.30664152,\n",
       "         0.21829493, -0.5697406 ],\n",
       "       ...,\n",
       "       [-0.10602601, -0.14488082,  0.37927338, ...,  0.482693  ,\n",
       "        -0.19146448, -0.32413656],\n",
       "       [ 0.29850703,  0.39383227, -0.11134414, ...,  0.01986688,\n",
       "         0.03396741,  0.0643153 ],\n",
       "       [-0.07025468,  0.16747633, -0.09645446, ..., -0.14839302,\n",
       "         0.01908729,  0.27587053]], dtype=float32)>"
      ]
     },
     "execution_count": 536,
     "metadata": {},
     "output_type": "execute_result"
    }
   ],
   "execution_count": 536
  },
  {
   "metadata": {},
   "cell_type": "markdown",
   "source": "# Layer Normalisation",
   "id": "1a348a54647d8ece"
  },
  {
   "metadata": {
    "ExecuteTime": {
     "end_time": "2024-06-26T20:49:14.662049Z",
     "start_time": "2024-06-26T20:49:14.657945Z"
    }
   },
   "cell_type": "code",
   "source": [
    "class add_normalisation(tf.keras.layers.Layer):\n",
    "    def __init__(self,**kwargs):\n",
    "        super().__init__(**kwargs)\n",
    "        self.layer_norm = tf.keras.layers.LayerNormalization()\n",
    "\n",
    "    def call(self,in1,in2):\n",
    "        out = in1 + in2\n",
    "        return self.layer_norm(out)"
   ],
   "id": "e80e7c5372839c5e",
   "outputs": [],
   "execution_count": 537
  },
  {
   "metadata": {
    "ExecuteTime": {
     "end_time": "2024-06-26T20:49:14.675149Z",
     "start_time": "2024-06-26T20:49:14.663051Z"
    }
   },
   "cell_type": "code",
   "source": [
    "# Sample input tensors\n",
    "x1 = tf.random.normal(shape=(batch_size, input_dim))\n",
    "x2 = tf.random.normal(shape=(batch_size, input_dim))  # Ensure same shape\n",
    "\n",
    "# Create the add_normalisation layer\n",
    "norm_layer = add_normalisation()\n",
    "\n",
    "# Pass the inputs through the layer\n",
    "output = norm_layer(x1, x2)\n",
    "output"
   ],
   "id": "4a371aa53a9f9862",
   "outputs": [
    {
     "data": {
      "text/plain": [
       "<tf.Tensor: shape=(32, 10), dtype=float32, numpy=\n",
       "array([[ 0.2780637 ,  1.2904602 ,  1.3954072 , -0.578715  ,  0.18004431,\n",
       "        -1.930253  ,  0.9287603 , -0.23919114, -1.1174563 , -0.20712048],\n",
       "       [ 1.227483  , -0.3366951 ,  0.09374078, -1.0384377 ,  1.5530376 ,\n",
       "         0.207656  , -1.8414915 ,  0.6605438 , -0.9222068 ,  0.3963698 ],\n",
       "       [ 1.3083421 , -1.7371019 ,  0.49463278,  0.37325245,  0.7023802 ,\n",
       "        -1.0057594 , -1.1883624 ,  0.23375705, -0.47779477,  1.2966542 ],\n",
       "       [-0.02325342, -0.37573546, -0.6652332 , -1.1449392 , -0.23609588,\n",
       "         1.1574749 ,  1.5783184 ,  1.5013982 , -0.477085  , -1.3148491 ],\n",
       "       [ 0.11994793,  1.2297435 ,  1.4209428 ,  0.07744874,  0.26227203,\n",
       "        -0.94176257,  0.94170445, -0.0803815 , -1.5630326 , -1.4668831 ],\n",
       "       [-0.14023516,  0.17952812,  0.7302031 ,  0.8488454 ,  0.07772154,\n",
       "        -2.37549   , -0.5794807 ,  1.6080059 , -0.00272343, -0.34637508],\n",
       "       [ 0.3256834 ,  0.9302306 ,  0.9057037 ,  1.5041028 ,  0.25957724,\n",
       "         0.3277374 , -0.69696933, -1.9286855 , -0.47993663, -1.1474441 ],\n",
       "       [-0.5311717 ,  0.7885589 , -1.3696107 , -0.862053  ,  0.54033494,\n",
       "         1.8012475 ,  1.2167917 , -0.01479929, -0.45466846, -1.1146301 ],\n",
       "       [ 0.07898289,  1.6766739 ,  0.43671265,  0.48443052, -0.44216898,\n",
       "         0.15406685, -0.5323325 ,  1.1526532 , -1.9428825 , -1.0661361 ],\n",
       "       [ 0.17660272,  0.6398163 ,  2.3838768 , -0.9551417 , -0.7668925 ,\n",
       "        -0.25157452, -0.04807565,  0.6757694 , -0.6746119 , -1.1797686 ],\n",
       "       [-1.1813165 , -0.66770494, -0.3946811 ,  0.07920364,  1.2464582 ,\n",
       "         2.3027098 ,  0.10113762, -0.7972174 ,  0.00795213, -0.6965412 ],\n",
       "       [-0.86142254, -0.7726924 ,  0.25411335, -0.96199065,  2.2362638 ,\n",
       "        -1.315032  ,  0.4858781 ,  0.02126667,  0.82650036,  0.08711543],\n",
       "       [-0.6824671 ,  1.4000686 , -0.6986596 , -1.2980494 ,  0.8107441 ,\n",
       "        -1.3046448 , -0.55948204,  1.5021586 ,  0.6568969 ,  0.17343469],\n",
       "       [ 1.0318011 , -0.9964879 , -1.8332602 ,  0.67258304,  0.13475884,\n",
       "         1.4819537 , -1.2333567 ,  0.31529364, -0.10213469,  0.52884924],\n",
       "       [ 1.9593394 , -0.02122061, -0.2569797 , -1.4451233 , -0.38362226,\n",
       "         1.1187371 , -0.48815006,  1.0095859 , -0.4132886 , -1.0792778 ],\n",
       "       [-1.8149903 ,  0.34165466, -1.6024264 ,  0.28334704,  0.5381458 ,\n",
       "         1.000253  , -0.7655659 ,  0.00502713,  1.123938  ,  0.89061695],\n",
       "       [-1.4393601 , -0.9155609 ,  0.5636543 ,  2.1793826 ,  0.74895877,\n",
       "         0.44259506, -0.19719516, -1.0332521 , -0.38276586,  0.03354309],\n",
       "       [-0.06764852, -0.28226593,  1.080887  ,  0.77870095,  0.9851752 ,\n",
       "         0.50261754, -0.2748053 ,  0.69047475, -2.2241027 , -1.1890335 ],\n",
       "       [-1.2695109 ,  1.2267039 , -1.411115  , -0.98228294, -0.13219802,\n",
       "         0.6152726 , -0.17262995,  1.6869484 , -0.30683884,  0.7456506 ],\n",
       "       [ 0.41361734, -0.07664843,  0.83574003, -0.15130432,  0.9948547 ,\n",
       "        -1.7280072 , -2.0007064 ,  0.27443793,  0.65584224,  0.7821741 ],\n",
       "       [-0.64025015,  0.9980051 ,  1.3021052 , -1.5581563 ,  0.66404456,\n",
       "         0.37553647, -1.8552631 ,  0.3477635 ,  0.5384969 , -0.1722822 ],\n",
       "       [-1.9096968 ,  1.6254599 , -0.12546708,  0.7120163 , -0.243912  ,\n",
       "        -0.19583447,  0.667012  , -1.1315509 , -0.46641728,  1.0683903 ],\n",
       "       [ 0.7025047 , -1.4303602 ,  0.6244905 , -1.702747  ,  1.401075  ,\n",
       "        -0.18083593,  0.05781415, -0.84438765,  0.18080881,  1.1916378 ],\n",
       "       [-0.79497933, -0.21669854,  0.02264729,  1.7454301 , -1.0944248 ,\n",
       "        -0.17390819,  1.2611507 , -0.73584825, -1.2125548 ,  1.1991857 ],\n",
       "       [ 0.81784755, -0.19657858,  0.39386266, -1.0846844 ,  0.77836835,\n",
       "        -2.1980853 ,  0.12011749, -0.21325606,  1.5680544 ,  0.01435437],\n",
       "       [-0.49160767, -0.18747956,  0.17458713, -1.6911588 ,  0.50704044,\n",
       "        -0.87856776,  2.070587  , -0.26213643,  1.1392583 , -0.38052237],\n",
       "       [-0.05988158,  1.3502761 , -0.25107387, -0.6787193 , -1.1014354 ,\n",
       "         0.86057127,  1.6322987 , -1.7314075 , -0.12982553,  0.10919683],\n",
       "       [ 1.8264314 ,  0.86607844, -1.9131486 ,  0.07180247, -0.49028975,\n",
       "        -0.86722636,  0.3834011 ,  0.6307606 ,  0.28426826, -0.79207754],\n",
       "       [-0.08324515, -0.7470784 , -0.9113539 ,  1.7633889 ,  0.828077  ,\n",
       "        -0.29585856, -0.3133582 , -1.2833294 , -0.58024204,  1.6229998 ],\n",
       "       [ 0.77512956, -2.1756682 ,  1.3819088 , -0.16404065,  0.39122492,\n",
       "         0.5134606 ,  0.3741726 ,  0.19012986,  0.16329914, -1.4496163 ],\n",
       "       [ 0.8380018 ,  0.33076808, -1.7639111 ,  1.1842691 , -0.748845  ,\n",
       "         0.07415182,  0.10083218, -0.31097317, -1.2576663 ,  1.553373  ],\n",
       "       [ 0.22114156,  2.1485624 , -0.79250443, -0.19380909, -1.4596887 ,\n",
       "         0.3975942 ,  0.58609664, -0.7135896 , -0.96387756,  0.7700746 ]],\n",
       "      dtype=float32)>"
      ]
     },
     "execution_count": 538,
     "metadata": {},
     "output_type": "execute_result"
    }
   ],
   "execution_count": 538
  },
  {
   "metadata": {},
   "cell_type": "markdown",
   "source": "# Encoder Layer",
   "id": "c30eaac31a27b5c3"
  },
  {
   "metadata": {
    "ExecuteTime": {
     "end_time": "2024-06-26T20:49:14.681282Z",
     "start_time": "2024-06-26T20:49:14.676151Z"
    }
   },
   "cell_type": "code",
   "source": [
    "class EncoderLayer(tf.keras.layers.Layer):\n",
    "    def __init__(self,\n",
    "                 heads, \n",
    "                 d_q,\n",
    "                 d_k, \n",
    "                 d_v, \n",
    "                 d_model, \n",
    "                 d_ff, \n",
    "                 rate, \n",
    "                 **kwargs):\n",
    "        \n",
    "        super(EncoderLayer, self).__init__(**kwargs)\n",
    "        self.multihead_attention = MultiHeadAttention(d_q, \n",
    "                                                      d_k, \n",
    "                                                      d_v, \n",
    "                                                      d_model, \n",
    "                                                      heads)\n",
    "        self.dropout1 = tf.keras.layers.Dropout(rate)\n",
    "        self.add_norm1 = add_normalisation()\n",
    "        self.feed_forward = feed_forward_network(d_ff, \n",
    "                                                 d_model)\n",
    "        self.dropout2 = tf.keras.layers.Dropout(rate)\n",
    "        self.add_norm2 = add_normalisation()\n",
    "\n",
    "\n",
    "       \n",
    "def call(self, x, padding_mask, training):\n",
    "   \n",
    "    multihead_output = self.multihead_attention(x, x, x, padding_mask)\n",
    "    multihead_output = self.dropout1(multihead_output, training=training)\n",
    "    addnorm_output = self.add_norm1(x, multihead_output)\n",
    "   \n",
    "    feedforward_output = self.feed_forward(addnorm_output)\n",
    "    feedforward_output = self.dropout2(feedforward_output, training=training)\n",
    "    addnorm_output = self.add_norm2(addnorm_output, feedforward_output)\n",
    "\n",
    "    return addnorm_output\n",
    "   "
   ],
   "id": "37b8f9d56871cbb6",
   "outputs": [],
   "execution_count": 539
  },
  {
   "metadata": {
    "ExecuteTime": {
     "end_time": "2024-06-26T20:49:14.700052Z",
     "start_time": "2024-06-26T20:49:14.682286Z"
    }
   },
   "cell_type": "code",
   "source": [
    "batch_size = 8\n",
    "seq_len = 32\n",
    "d_model = 512\n",
    "heads = 8\n",
    "d_ff = 2048\n",
    "rate = 0.1\n",
    "\n",
    "x = tf.random.uniform(shape=(batch_size, seq_len, d_model), minval=0.0, maxval=1.0)\n",
    "padding_mask = tf.equal(tf.reduce_sum(x, axis=-1), 0.0)\n",
    "training = True\n",
    "\n",
    "encoder_layer = EncoderLayer(\n",
    "                             heads = heads,\n",
    "                             d_q=d_model // heads, \n",
    "                             d_k=d_model // heads, \n",
    "                             d_v=d_model // heads, \n",
    "                             d_model=d_model,\n",
    "                             d_ff=d_ff, \n",
    "                             rate=rate)\n",
    "output = encoder_layer(x, padding_mask, training)\n",
    "\n",
    "# Basic output shape check\n",
    "expected_output_shape = (batch_size, seq_len, d_model)\n",
    "assert output.shape == expected_output_shape, f\"Unexpected output shape: {output.shape}\"\n",
    "\n",
    "print(\"EncoderLayer output shape:\", output.shape)"
   ],
   "id": "7b0898c89759120d",
   "outputs": [
    {
     "name": "stdout",
     "output_type": "stream",
     "text": [
      "EncoderLayer output shape: (8, 32, 512)\n"
     ]
    }
   ],
   "execution_count": 540
  },
  {
   "metadata": {},
   "cell_type": "markdown",
   "source": "# Encoder",
   "id": "d303834d9a3e6010"
  },
  {
   "metadata": {
    "ExecuteTime": {
     "end_time": "2024-06-26T20:49:14.724421Z",
     "start_time": "2024-06-26T20:49:14.703056Z"
    }
   },
   "cell_type": "code",
   "source": [
    "class Encoder(tf.keras.layers.Layer):\n",
    "    def __init__(self, \n",
    "                 vocab_size, \n",
    "                 sequence_length, \n",
    "                 h,\n",
    "                 d_q, \n",
    "                 d_k, \n",
    "                 d_v, \n",
    "                 d_model, \n",
    "                 d_ff, \n",
    "                 n, \n",
    "                 rate, \n",
    "                 **kwargs):\n",
    "        \n",
    "        super(Encoder, self).__init__(**kwargs)\n",
    "        self.pos_encoding = PositionEmbeddingFixedWeights(sequence_length, \n",
    "                                                          vocab_size, \n",
    "                                                          d_model)\n",
    "        self.dropout = tf.keras.layers.Dropout(rate)\n",
    "        self.encoder_layer = [EncoderLayer(\n",
    "                                           h,\n",
    "                                           d_q,\n",
    "                                           d_k, \n",
    "                                           d_v, \n",
    "                                           d_model, \n",
    "                                           d_ff, \n",
    "                                           rate) for _ in range(n)]\n",
    " \n",
    "    def call(self, \n",
    "             input_sentence, \n",
    "             padding_mask, \n",
    "             training):\n",
    "        # Generate the positional encoding\n",
    "        pos_encoding_output = self.pos_encoding(input_sentence)\n",
    "      \n",
    "        x = self.dropout(pos_encoding_output, training=training)\n",
    "        for i, layer in enumerate(self.encoder_layer):\n",
    "            x = layer(x, padding_mask, training)\n",
    " \n",
    "        return x\n"
   ],
   "id": "bb2f1e1dce9e0b0",
   "outputs": [],
   "execution_count": 541
  },
  {
   "metadata": {
    "ExecuteTime": {
     "end_time": "2024-06-26T20:49:14.825499Z",
     "start_time": "2024-06-26T20:49:14.727424Z"
    }
   },
   "cell_type": "code",
   "source": [
    "enc_vocab_size = 20 # Vocabulary size for the encoder\n",
    "input_seq_length = 5  # Maximum length of the input sequence\n",
    "h = 8  # Number of self-attention heads\n",
    "d_q = d_k = 64  # Dimensionality of the linearly projected queries and keys\n",
    "d_v = 64  # Dimensionality of the linearly projected values\n",
    "d_ff = 2048  # Dimensionality of the inner fully connected layer\n",
    "d_model = 512  # Dimensionality of the model sub-layers' outputs\n",
    "n = 6  # Number of layers in the encoder stack\n",
    "\n",
    "batch_size = 64  # Batch size from the training process\n",
    "dropout_rate = 0.1  # Frequency of dropping the input units in the dropout layers\n",
    "\n",
    "input_seq = np.random.random((batch_size, input_seq_length))\n",
    "\n",
    "encoder = Encoder(enc_vocab_size, \n",
    "                  input_seq_length, \n",
    "                  h, \n",
    "                  d_q,\n",
    "                  d_k, \n",
    "                  d_v, \n",
    "                  d_model, \n",
    "                  d_ff, \n",
    "                  n, \n",
    "                  dropout_rate)\n",
    "\n",
    "encoder(input_seq, None, True)"
   ],
   "id": "c178f5fcf5d9202",
   "outputs": [
    {
     "data": {
      "text/plain": [
       "<tf.Tensor: shape=(64, 5, 512), dtype=float32, numpy=\n",
       "array([[[ 0.00000000e+00,  2.22222233e+00,  0.00000000e+00, ...,\n",
       "          0.00000000e+00,  0.00000000e+00,  2.22222233e+00],\n",
       "        [ 9.34967756e-01,  1.71144700e+00,  9.13173616e-01, ...,\n",
       "          0.00000000e+00,  1.15181436e-04,  2.22222233e+00],\n",
       "        [ 1.01033056e+00,  6.48725748e-01,  1.04046082e+00, ...,\n",
       "          2.22222233e+00,  2.30362872e-04,  2.22222233e+00],\n",
       "        [ 1.56800017e-01,  1.11194458e-02,  2.72317141e-01, ...,\n",
       "          2.22222233e+00,  3.45544337e-04,  0.00000000e+00],\n",
       "        [-8.40891719e-01,  3.84840459e-01,  0.00000000e+00, ...,\n",
       "          2.22222209e+00,  0.00000000e+00,  2.22222233e+00]],\n",
       "\n",
       "       [[ 0.00000000e+00,  0.00000000e+00,  0.00000000e+00, ...,\n",
       "          2.22222233e+00,  0.00000000e+00,  0.00000000e+00],\n",
       "        [ 9.34967756e-01,  1.71144700e+00,  9.13173616e-01, ...,\n",
       "          2.22222233e+00,  1.15181436e-04,  2.22222233e+00],\n",
       "        [ 1.01033056e+00,  6.48725748e-01,  1.04046082e+00, ...,\n",
       "          2.22222233e+00,  2.30362872e-04,  2.22222233e+00],\n",
       "        [ 1.56800017e-01,  1.11194458e-02,  2.72317141e-01, ...,\n",
       "          2.22222233e+00,  3.45544337e-04,  2.22222233e+00],\n",
       "        [-8.40891719e-01,  3.84840459e-01, -7.30185390e-01, ...,\n",
       "          2.22222209e+00,  0.00000000e+00,  2.22222233e+00]],\n",
       "\n",
       "       [[ 0.00000000e+00,  2.22222233e+00,  0.00000000e+00, ...,\n",
       "          2.22222233e+00,  0.00000000e+00,  2.22222233e+00],\n",
       "        [ 9.34967756e-01,  1.71144700e+00,  9.13173616e-01, ...,\n",
       "          2.22222233e+00,  1.15181436e-04,  2.22222233e+00],\n",
       "        [ 1.01033056e+00,  6.48725748e-01,  1.04046082e+00, ...,\n",
       "          2.22222233e+00,  0.00000000e+00,  2.22222233e+00],\n",
       "        [ 1.56800017e-01,  1.11194458e-02,  2.72317141e-01, ...,\n",
       "          2.22222233e+00,  0.00000000e+00,  0.00000000e+00],\n",
       "        [-8.40891719e-01,  3.84840459e-01, -7.30185390e-01, ...,\n",
       "          2.22222209e+00,  4.60725743e-04,  2.22222233e+00]],\n",
       "\n",
       "       ...,\n",
       "\n",
       "       [[ 0.00000000e+00,  2.22222233e+00,  0.00000000e+00, ...,\n",
       "          2.22222233e+00,  0.00000000e+00,  2.22222233e+00],\n",
       "        [ 9.34967756e-01,  1.71144700e+00,  9.13173616e-01, ...,\n",
       "          0.00000000e+00,  0.00000000e+00,  0.00000000e+00],\n",
       "        [ 1.01033056e+00,  6.48725748e-01,  1.04046082e+00, ...,\n",
       "          0.00000000e+00,  2.30362872e-04,  2.22222233e+00],\n",
       "        [ 1.56800017e-01,  1.11194458e-02,  2.72317141e-01, ...,\n",
       "          2.22222233e+00,  3.45544337e-04,  2.22222233e+00],\n",
       "        [-8.40891719e-01,  3.84840459e-01, -7.30185390e-01, ...,\n",
       "          2.22222209e+00,  4.60725743e-04,  0.00000000e+00]],\n",
       "\n",
       "       [[ 0.00000000e+00,  2.22222233e+00,  0.00000000e+00, ...,\n",
       "          0.00000000e+00,  0.00000000e+00,  2.22222233e+00],\n",
       "        [ 9.34967756e-01,  1.71144700e+00,  9.13173616e-01, ...,\n",
       "          2.22222233e+00,  1.15181436e-04,  2.22222233e+00],\n",
       "        [ 1.01033056e+00,  6.48725748e-01,  1.04046082e+00, ...,\n",
       "          2.22222233e+00,  2.30362872e-04,  2.22222233e+00],\n",
       "        [ 1.56800017e-01,  1.11194458e-02,  2.72317141e-01, ...,\n",
       "          2.22222233e+00,  3.45544337e-04,  2.22222233e+00],\n",
       "        [-8.40891719e-01,  3.84840459e-01,  0.00000000e+00, ...,\n",
       "          2.22222209e+00,  4.60725743e-04,  2.22222233e+00]],\n",
       "\n",
       "       [[ 0.00000000e+00,  2.22222233e+00,  0.00000000e+00, ...,\n",
       "          2.22222233e+00,  0.00000000e+00,  2.22222233e+00],\n",
       "        [ 0.00000000e+00,  1.71144700e+00,  0.00000000e+00, ...,\n",
       "          2.22222233e+00,  1.15181436e-04,  2.22222233e+00],\n",
       "        [ 1.01033056e+00,  6.48725748e-01,  1.04046082e+00, ...,\n",
       "          2.22222233e+00,  2.30362872e-04,  2.22222233e+00],\n",
       "        [ 1.56800017e-01,  1.11194458e-02,  2.72317141e-01, ...,\n",
       "          2.22222233e+00,  3.45544337e-04,  2.22222233e+00],\n",
       "        [-8.40891719e-01,  3.84840459e-01, -7.30185390e-01, ...,\n",
       "          2.22222209e+00,  0.00000000e+00,  2.22222233e+00]]],\n",
       "      dtype=float32)>"
      ]
     },
     "execution_count": 542,
     "metadata": {},
     "output_type": "execute_result"
    }
   ],
   "execution_count": 542
  },
  {
   "metadata": {},
   "cell_type": "markdown",
   "source": "# Decoder",
   "id": "654427afd910cc2c"
  },
  {
   "metadata": {
    "ExecuteTime": {
     "end_time": "2024-06-26T20:49:14.833312Z",
     "start_time": "2024-06-26T20:49:14.826508Z"
    }
   },
   "cell_type": "code",
   "source": [
    "class DecoderLayer(tf.keras.layers.Layer):\n",
    "    def __init__(self,\n",
    "                 d_q,\n",
    "                 d_v,\n",
    "                 d_k,\n",
    "                 d_model,\n",
    "                 d_ff,\n",
    "                 heads,\n",
    "                 rate):\n",
    "        super(DecoderLayer, self).__init__()\n",
    "        self.multihead_attention1 = MultiHeadAttention(d_q,\n",
    "                                                       d_k, \n",
    "                                                       d_v, \n",
    "                                                       d_model,\n",
    "                                                       heads)\n",
    "        self.dropout1 = tf.keras.layers.Dropout(rate)\n",
    "        self.add_norm1 = add_normalisation()\n",
    "        self.multihead_attention2 = MultiHeadAttention(d_q,\n",
    "                                                       d_k, \n",
    "                                                       d_v, \n",
    "                                                       d_model,\n",
    "                                                       heads)\n",
    "        self.dropout2 = tf.keras.layers.Dropout(rate)\n",
    "        self.add_norm2 = add_normalisation()\n",
    "        self.feed_forward = feed_forward_network(d_ff, d_model)\n",
    "        self.dropout3 = tf.keras.layers.Dropout(rate)\n",
    "        self.add_norm3 = add_normalisation()\n",
    "        \n",
    "\n",
    "def call(self, \n",
    "         x, \n",
    "         encoder_output, \n",
    "         lookahead_mask, \n",
    "         padding_mask, \n",
    "         training):\n",
    "    \n",
    "    \n",
    "    multihead_output1 = self.multihead_attention1(x, \n",
    "                                                  x, \n",
    "                                                  x, \n",
    "                                                  lookahead_mask)\n",
    "    multihead_output1 = self.dropout1(multihead_output1, \n",
    "                                      training=training)\n",
    "\n",
    "    addnorm_output1 = self.add_norm1(x, \n",
    "                                     multihead_output1)\n",
    "    \n",
    "    multihead_output2 = self.multihead_attention2(addnorm_output1, \n",
    "                                                  encoder_output, \n",
    "                                                  encoder_output, \n",
    "                                                  padding_mask)\n",
    "    multihead_output2 = self.dropout2(multihead_output2, \n",
    "                                      training=training)\n",
    "\n",
    "    addnorm_output2 = self.add_norm1(addnorm_output1, \n",
    "                                     multihead_output2)\n",
    "\n",
    "    feedforward_output = self.feed_forward(addnorm_output2)\n",
    "    \n",
    "    feedforward_output = self.dropout3(feedforward_output, \n",
    "                                       training=training)\n",
    "    addnorm_output3 = self.add_norm3(addnorm_output2, \n",
    "                                     feedforward_output)\n",
    "  \n",
    "    return addnorm_output3\n",
    "\n",
    "        "
   ],
   "id": "3db36c9aa98f7f65",
   "outputs": [],
   "execution_count": 543
  },
  {
   "metadata": {
    "ExecuteTime": {
     "end_time": "2024-06-26T20:49:14.841254Z",
     "start_time": "2024-06-26T20:49:14.834315Z"
    }
   },
   "cell_type": "code",
   "source": [
    "class Decoder(tf.keras.layers.Layer):\n",
    "    def __init__(self, \n",
    "                 vocab_size, \n",
    "                 sequence_length, \n",
    "                 heads,\n",
    "                 d_q,\n",
    "                 d_k,\n",
    "                 d_v, \n",
    "                 d_model, \n",
    "                 d_ff, \n",
    "                 n, \n",
    "                 rate):\n",
    "        super(Decoder, self).__init__()\n",
    "        self.pos_encoding = PositionEmbeddingFixedWeights(sequence_length, \n",
    "                                                          vocab_size,\n",
    "                                                          d_model)\n",
    "        self.dropout = tf.keras.layers.Dropout(rate)\n",
    "        self.decoder_layer = [DecoderLayer(\n",
    "                                           d_q, \n",
    "                                           d_k, \n",
    "                                           d_v, \n",
    "                                           d_model, \n",
    "                                           d_ff, \n",
    "                                           heads,\n",
    "                                           rate) for _ in range(n)]\n",
    " \n",
    "    def call(self, output_target, encoder_output, lookahead_mask, padding_mask, training):\n",
    "        \n",
    "        pos_encoding_output = self.pos_encoding(output_target)\n",
    "        \n",
    "        x = self.dropout(pos_encoding_output,\n",
    "                         training=training)\n",
    "\n",
    "        for i, layer in enumerate(self.decoder_layer):\n",
    "            x = layer(x, \n",
    "                      encoder_output, \n",
    "                      lookahead_mask, \n",
    "                      padding_mask, \n",
    "                      training)\n",
    " \n",
    "        return x"
   ],
   "id": "4bd6ccec220b4067",
   "outputs": [],
   "execution_count": 544
  },
  {
   "metadata": {
    "ExecuteTime": {
     "end_time": "2024-06-26T20:49:14.951331Z",
     "start_time": "2024-06-26T20:49:14.842268Z"
    }
   },
   "cell_type": "code",
   "source": [
    "from numpy import random\n",
    "\n",
    "dec_vocab_size = 20  # Vocabulary size for the decoder\n",
    "input_seq_length = 5  # Maximum length of the input sequence\n",
    "h = 8  # Number of self-attention heads\n",
    "d_q = d_k = 64  # Dimensionality of the linearly projected queries and keys\n",
    "d_v = 64  # Dimensionality of the linearly projected values\n",
    "d_ff = 2048  # Dimensionality of the inner fully connected layer\n",
    "d_model = 512  # Dimensionality of the model sub-layers' outputs\n",
    "n = 6  # Number of layers in the decoder stack\n",
    "\n",
    "batch_size = 64  # Batch size from the training process\n",
    "dropout_rate = 0.1  # Frequency of dropping the input units in the dropout layers\n",
    "\n",
    "input_seq = random.random((batch_size, input_seq_length))\n",
    "enc_output = random.random((batch_size, input_seq_length, d_model))\n",
    "\n",
    "decoder = Decoder(dec_vocab_size, input_seq_length, h, d_q,d_k, d_v, d_model, d_ff, n, dropout_rate)\n",
    "decoder(input_seq, enc_output, None, True)"
   ],
   "id": "b952b2c88e58ebba",
   "outputs": [
    {
     "data": {
      "text/plain": [
       "<tf.Tensor: shape=(64, 5, 512), dtype=float32, numpy=\n",
       "array([[[ 0.0000000e+00,  2.0000000e+00,  0.0000000e+00, ...,\n",
       "          2.0000000e+00,  0.0000000e+00,  2.0000000e+00],\n",
       "        [ 8.4147096e-01,  1.5403023e+00,  8.2185620e-01, ...,\n",
       "          2.0000000e+00,  1.0366329e-04,  2.0000000e+00],\n",
       "        [ 9.0929741e-01,  5.8385313e-01,  9.3641472e-01, ...,\n",
       "          2.0000000e+00,  2.0732658e-04,  2.0000000e+00],\n",
       "        [ 1.4112000e-01,  1.0007501e-02,  2.4508542e-01, ...,\n",
       "          2.0000000e+00,  3.1098988e-04,  2.0000000e+00],\n",
       "        [-7.5680250e-01,  3.4635639e-01, -6.5716684e-01, ...,\n",
       "          1.9999999e+00,  4.1465316e-04,  2.0000000e+00]],\n",
       "\n",
       "       [[ 0.0000000e+00,  2.0000000e+00,  0.0000000e+00, ...,\n",
       "          2.0000000e+00,  0.0000000e+00,  2.0000000e+00],\n",
       "        [ 8.4147096e-01,  1.5403023e+00,  8.2185620e-01, ...,\n",
       "          2.0000000e+00,  1.0366329e-04,  2.0000000e+00],\n",
       "        [ 9.0929741e-01,  5.8385313e-01,  9.3641472e-01, ...,\n",
       "          2.0000000e+00,  2.0732658e-04,  2.0000000e+00],\n",
       "        [ 1.4112000e-01,  1.0007501e-02,  2.4508542e-01, ...,\n",
       "          2.0000000e+00,  3.1098988e-04,  2.0000000e+00],\n",
       "        [-7.5680250e-01,  3.4635639e-01, -6.5716684e-01, ...,\n",
       "          1.9999999e+00,  4.1465316e-04,  2.0000000e+00]],\n",
       "\n",
       "       [[ 0.0000000e+00,  2.0000000e+00,  0.0000000e+00, ...,\n",
       "          2.0000000e+00,  0.0000000e+00,  2.0000000e+00],\n",
       "        [ 8.4147096e-01,  1.5403023e+00,  8.2185620e-01, ...,\n",
       "          2.0000000e+00,  1.0366329e-04,  2.0000000e+00],\n",
       "        [ 9.0929741e-01,  5.8385313e-01,  9.3641472e-01, ...,\n",
       "          2.0000000e+00,  2.0732658e-04,  2.0000000e+00],\n",
       "        [ 1.4112000e-01,  1.0007501e-02,  2.4508542e-01, ...,\n",
       "          2.0000000e+00,  3.1098988e-04,  2.0000000e+00],\n",
       "        [-7.5680250e-01,  3.4635639e-01, -6.5716684e-01, ...,\n",
       "          1.9999999e+00,  4.1465316e-04,  2.0000000e+00]],\n",
       "\n",
       "       ...,\n",
       "\n",
       "       [[ 0.0000000e+00,  2.0000000e+00,  0.0000000e+00, ...,\n",
       "          2.0000000e+00,  0.0000000e+00,  2.0000000e+00],\n",
       "        [ 8.4147096e-01,  1.5403023e+00,  8.2185620e-01, ...,\n",
       "          2.0000000e+00,  1.0366329e-04,  2.0000000e+00],\n",
       "        [ 9.0929741e-01,  5.8385313e-01,  9.3641472e-01, ...,\n",
       "          2.0000000e+00,  2.0732658e-04,  2.0000000e+00],\n",
       "        [ 1.4112000e-01,  1.0007501e-02,  2.4508542e-01, ...,\n",
       "          2.0000000e+00,  3.1098988e-04,  2.0000000e+00],\n",
       "        [-7.5680250e-01,  3.4635639e-01, -6.5716684e-01, ...,\n",
       "          1.9999999e+00,  4.1465316e-04,  2.0000000e+00]],\n",
       "\n",
       "       [[ 0.0000000e+00,  2.0000000e+00,  0.0000000e+00, ...,\n",
       "          2.0000000e+00,  0.0000000e+00,  2.0000000e+00],\n",
       "        [ 8.4147096e-01,  1.5403023e+00,  8.2185620e-01, ...,\n",
       "          2.0000000e+00,  1.0366329e-04,  2.0000000e+00],\n",
       "        [ 9.0929741e-01,  5.8385313e-01,  9.3641472e-01, ...,\n",
       "          2.0000000e+00,  2.0732658e-04,  2.0000000e+00],\n",
       "        [ 1.4112000e-01,  1.0007501e-02,  2.4508542e-01, ...,\n",
       "          2.0000000e+00,  3.1098988e-04,  2.0000000e+00],\n",
       "        [-7.5680250e-01,  3.4635639e-01, -6.5716684e-01, ...,\n",
       "          1.9999999e+00,  4.1465316e-04,  2.0000000e+00]],\n",
       "\n",
       "       [[ 0.0000000e+00,  2.0000000e+00,  0.0000000e+00, ...,\n",
       "          2.0000000e+00,  0.0000000e+00,  2.0000000e+00],\n",
       "        [ 8.4147096e-01,  1.5403023e+00,  8.2185620e-01, ...,\n",
       "          2.0000000e+00,  1.0366329e-04,  2.0000000e+00],\n",
       "        [ 9.0929741e-01,  5.8385313e-01,  9.3641472e-01, ...,\n",
       "          2.0000000e+00,  2.0732658e-04,  2.0000000e+00],\n",
       "        [ 1.4112000e-01,  1.0007501e-02,  2.4508542e-01, ...,\n",
       "          2.0000000e+00,  3.1098988e-04,  2.0000000e+00],\n",
       "        [-7.5680250e-01,  3.4635639e-01, -6.5716684e-01, ...,\n",
       "          1.9999999e+00,  4.1465316e-04,  2.0000000e+00]]], dtype=float32)>"
      ]
     },
     "execution_count": 545,
     "metadata": {},
     "output_type": "execute_result"
    }
   ],
   "execution_count": 545
  },
  {
   "metadata": {},
   "cell_type": "markdown",
   "source": "# Transformer Model",
   "id": "81da7c566ea529be"
  },
  {
   "metadata": {
    "ExecuteTime": {
     "end_time": "2024-06-26T20:49:14.960988Z",
     "start_time": "2024-06-26T20:49:14.952847Z"
    }
   },
   "cell_type": "code",
   "source": [
    "class TransformerModel(tf.keras.Model):\n",
    "    '''\n",
    "    supply in text vectors\n",
    "    '''\n",
    "    def __init__(self, \n",
    "                 enc_vocab_size, \n",
    "                 dec_vocab_size, \n",
    "                 enc_seq_length, \n",
    "                 dec_seq_length, \n",
    "                 h,\n",
    "                 d_q,\n",
    "                 d_k, \n",
    "                 d_v, \n",
    "                 d_model, \n",
    "                 d_ff_inner, \n",
    "                 n, \n",
    "                 rate, \n",
    "                 **kwargs):\n",
    "        super(TransformerModel, self).__init__(**kwargs)\n",
    " \n",
    "        self.encoder = Encoder(enc_vocab_size, \n",
    "                               enc_seq_length, \n",
    "                               h, \n",
    "                               d_q,\n",
    "                               d_k, \n",
    "                               d_v, \n",
    "                               d_model, \n",
    "                               d_ff_inner, \n",
    "                               n, \n",
    "                               rate)\n",
    "        \n",
    "        self.decoder = Decoder(dec_vocab_size, \n",
    "                               dec_seq_length, \n",
    "                               h, \n",
    "                               d_q,\n",
    "                               d_k, \n",
    "                               d_v, \n",
    "                               d_model, \n",
    "                               d_ff_inner, \n",
    "                               n, \n",
    "                               rate)\n",
    " \n",
    "        self.model_last_layer = tf.keras.layers.Dense(dec_vocab_size)\n",
    "        \n",
    "        \n",
    "    def padding_mask(self, input):\n",
    "        \n",
    "        # Create mask which marks the zero padding values in the input by a 1.0\n",
    "        mask = tf.math.equal(input, 0)\n",
    "        mask = tf.cast(mask, tf.float32)\n",
    " \n",
    "        # The shape of the mask should be broadcastable to the shape\n",
    "        # of the attention weights that it will be masking later on\n",
    "        return mask[:, tf.expand_dims(axis = -1), tf.expand_dims(axis = -1), :]\n",
    "    \n",
    "    \n",
    "    def lookahead_mask(self, shape):\n",
    "        # Mask out future entries by marking them with a 1.0\n",
    "        mask = 1 - tf.linalg.band_part(tf.ones((shape, shape)), -1, 0)\n",
    "        return mask\n",
    "    \n",
    "    \n",
    "    def __call__(self, \n",
    "              encoder_input, \n",
    "              decoder_input, \n",
    "              decoder_output,\n",
    "              training):\n",
    " \n",
    "        enc_padding_mask = self.padding_mask(encoder_input)\n",
    " \n",
    "        # Create and combine padding and look-ahead masks to be fed into the decoder\n",
    "        dec_in_padding_mask = self.padding_mask(decoder_input)\n",
    "        dec_in_lookahead_mask = self.lookahead_mask(decoder_input.shape[1])\n",
    "        dec_in_lookahead_mask = tf.math.maximum(dec_in_padding_mask, dec_in_lookahead_mask)\n",
    " \n",
    "        encoder_output = self.encoder(encoder_input, enc_padding_mask, training)\n",
    " \n",
    "\n",
    "        decoder_output = self.decoder(decoder_input,\n",
    "                                      encoder_output, \n",
    "                                      dec_in_lookahead_mask, \n",
    "                                      enc_padding_mask, \n",
    "                                      training)\n",
    " \n",
    "    \n",
    "        model_output = self.model_last_layer(decoder_output)\n",
    " \n",
    "        return model_output"
   ],
   "id": "e142ce4972d10a30",
   "outputs": [],
   "execution_count": 546
  },
  {
   "metadata": {
    "ExecuteTime": {
     "end_time": "2024-06-26T20:49:15.131876Z",
     "start_time": "2024-06-26T20:49:14.961994Z"
    }
   },
   "cell_type": "code",
   "source": [
    "enc_vocab_size = 20 # Vocabulary size for the encoder\n",
    "dec_vocab_size = 20 # Vocabulary size for the decoder\n",
    "\n",
    "enc_seq_length = 5  # Maximum length of the input sequence\n",
    "dec_seq_length = 5  # Maximum length of the target sequence\n",
    "\n",
    "h = 8  # Number of self-attention heads\n",
    "d_k = 64  # Dimensionality of the linearly projected queries and keys\n",
    "d_v = 64  # Dimensionality of the linearly projected values\n",
    "d_ff = 2048  # Dimensionality of the inner fully connected layer\n",
    "d_model = 512  # Dimensionality of the model sub-layers' outputs\n",
    "n = 6  # Number of layers in the encoder stack\n",
    "\n",
    "dropout_rate = 0.1  # Frequency of dropping the input units in the dropout layers\n",
    "\n",
    "# Create model\n",
    "transformer_model = TransformerModel(enc_vocab_size, \n",
    "                                  dec_vocab_size, \n",
    "                                  enc_seq_length, \n",
    "                                  dec_seq_length, \n",
    "                                  h,\n",
    "                                  d_q,\n",
    "                                  d_k, \n",
    "                                  d_v, \n",
    "                                  d_model, \n",
    "                                  d_ff, \n",
    "                                  n, \n",
    "                                  dropout_rate)"
   ],
   "id": "e433a6a55af00f74",
   "outputs": [],
   "execution_count": 547
  },
  {
   "metadata": {},
   "cell_type": "markdown",
   "source": "# Dataset",
   "id": "d3f43cb150d7ff2c"
  },
  {
   "metadata": {
    "ExecuteTime": {
     "end_time": "2024-06-26T20:49:15.162913Z",
     "start_time": "2024-06-26T20:49:15.132881Z"
    }
   },
   "cell_type": "code",
   "source": [
    "import pickle\n",
    "\n",
    "with open('Datasets/english-german-both.pkl', 'rb') as f:\n",
    "  clean_dataset = pickle.load(f)\n",
    "\n",
    "clean_dataset"
   ],
   "id": "d772df756273e99f",
   "outputs": [
    {
     "data": {
      "text/plain": [
       "array([['i like both', 'ich mag beide'],\n",
       "       ['she misses him', 'er fehlt ihr'],\n",
       "       ['i followed him', 'ich folgte ihm'],\n",
       "       ...,\n",
       "       ['tom is cooking', 'tom kocht'],\n",
       "       ['youre upset', 'sie sind besturzt'],\n",
       "       ['do you see me', 'sehen sie mich']], dtype='<U370')"
      ]
     },
     "execution_count": 548,
     "metadata": {},
     "output_type": "execute_result"
    }
   ],
   "execution_count": 548
  },
  {
   "metadata": {},
   "cell_type": "markdown",
   "source": "## Tokenisation",
   "id": "d9cccb77915f4d3f"
  },
  {
   "metadata": {},
   "cell_type": "markdown",
   "source": "#### Example code for tokenisation",
   "id": "4334f0491d2f08c3"
  },
  {
   "metadata": {
    "ExecuteTime": {
     "end_time": "2024-06-26T20:49:15.169600Z",
     "start_time": "2024-06-26T20:49:15.164933Z"
    }
   },
   "cell_type": "code",
   "source": [
    "corpus = [\"This is a sample sentence.\", \"Here is another one.\"]\n",
    "tokenizer = tf.keras.preprocessing.text.Tokenizer(num_words=10000)  # Optional: Limit vocabulary size\n",
    "tokenizer.fit_on_texts(corpus)\n",
    "\n",
    "sentence = \"This is a new sentence.\"\n",
    "sequence = tokenizer.texts_to_sequences([sentence])\n",
    "print(f'sequence: {sequence}')  # Output: [[1, 2, 3, ...]] (depending on the vocabulary)\n",
    "\n",
    "word_index = tokenizer.word_index\n",
    "print(f'word_index: {word_index}') # Output:\n"
   ],
   "id": "167358f52823d57e",
   "outputs": [
    {
     "name": "stdout",
     "output_type": "stream",
     "text": [
      "sequence: [[2, 1, 3, 5]]\n",
      "word_index: {'is': 1, 'this': 2, 'a': 3, 'sample': 4, 'sentence': 5, 'here': 6, 'another': 7, 'one': 8}\n"
     ]
    }
   ],
   "execution_count": 549
  },
  {
   "metadata": {
    "ExecuteTime": {
     "end_time": "2024-06-26T20:49:15.180003Z",
     "start_time": "2024-06-26T20:49:15.171738Z"
    }
   },
   "cell_type": "code",
   "source": [
    "class PrepareDataset:\n",
    "    def __init__(self):\n",
    "        super(PrepareDataset, self).__init__()\n",
    "        self.n_sentences = 10000  # Number of sentences to include in the dataset\n",
    "        self.train_split = 0.9  # Ratio of the training data split\n",
    "        \n",
    "    def create_tokenizer(self, dataset):\n",
    "        tokenizer = tf.keras.preprocessing.text.Tokenizer()\n",
    "        tokenizer.fit_on_texts(dataset)  # build the vocabulary (word index)                                      f\n",
    "        return tokenizer\n",
    "    \n",
    "    def find_seq_length(self, dataset):\n",
    "        return max(len(seq.split()) for seq in dataset)\n",
    " \n",
    "    def find_vocab_size(self, tokenizer, dataset):\n",
    "        tokenizer.fit_on_texts(dataset)\n",
    "        return len(tokenizer.word_index) + 1\n",
    "    \n",
    "    \n",
    "    def __call__(self, filename,shuffle = True ,**kwargs):\n",
    "         import pickle\n",
    "         clean_dataset = pickle.load(open(filename, 'rb'))\n",
    "         \n",
    "         dataset = clean_dataset[:self.n_sentences, :]\n",
    "         \n",
    "         # Include start and end of string tokens\n",
    "         for i in range(dataset[:, 0].size):\n",
    "             dataset[i, 0] = \"<START> \" + dataset[i, 0] + \" <EOS>\"\n",
    "             dataset[i, 1] = \"<START> \" + dataset[i, 1] + \" <EOS>\"\n",
    "         \n",
    "         # Random shuffle the dataset\n",
    "         if shuffle == True:\n",
    "            np.random.shuffle(dataset)\n",
    "         \n",
    "         # Split the dataset\n",
    "         train = dataset[:int(self.n_sentences * self.train_split)]\n",
    "         enc_tokenizer = self.create_tokenizer(train[:, 0])\n",
    "         enc_seq_length = self.find_seq_length(train[:, 0])\n",
    "         enc_vocab_size = self.find_vocab_size(enc_tokenizer, train[:, 0])\n",
    "         \n",
    "         # Encode and pad the input sequences\n",
    "         trainX = enc_tokenizer.texts_to_sequences(train[:, 0])\n",
    "         trainX = tf.keras.utils.pad_sequences(trainX, maxlen=enc_seq_length, padding='post')\n",
    "         trainX = tf.convert_to_tensor(trainX, dtype=tf.int64)\n",
    "         \n",
    "         # Prepare tokenizer for the decoder input\n",
    "         dec_tokenizer = self.create_tokenizer(train[:, 1])\n",
    "         dec_seq_length = self.find_seq_length(train[:, 1])\n",
    "         dec_vocab_size = self.find_vocab_size(dec_tokenizer, train[:, 1])\n",
    "         \n",
    "         # Encode and pad the input sequences\n",
    "         trainY = dec_tokenizer.texts_to_sequences(train[:, 1])\n",
    "         trainY = tf.keras.utils.pad_sequences(trainY, maxlen=dec_seq_length, padding='post')\n",
    "         trainY = tf.convert_to_tensor(trainY, dtype=tf.int64)\n",
    "         \n",
    "         return trainX, trainY, train, enc_seq_length, dec_seq_length, enc_vocab_size, dec_vocab_size      "
   ],
   "id": "cc79b55512c86f46",
   "outputs": [],
   "execution_count": 550
  },
  {
   "metadata": {
    "ExecuteTime": {
     "end_time": "2024-06-26T20:49:15.711765Z",
     "start_time": "2024-06-26T20:49:15.181029Z"
    }
   },
   "cell_type": "code",
   "source": [
    "dataset = PrepareDataset()\n",
    "trainX, trainY, train_orig, enc_seq_length, dec_seq_length, enc_vocab_size, dec_vocab_size = dataset('Datasets/english-german-both.pkl')\n",
    " \n",
    "print(train_orig[0, 0], '\\n', trainX[0, :])"
   ],
   "id": "9b612cccfa1804c0",
   "outputs": [
    {
     "name": "stdout",
     "output_type": "stream",
     "text": [
      "<START> he never laughs <EOS> \n",
      " tf.Tensor([   1    9  169 1437    2    0    0], shape=(7,), dtype=int64)\n"
     ]
    }
   ],
   "execution_count": 551
  },
  {
   "metadata": {
    "ExecuteTime": {
     "end_time": "2024-06-26T20:49:15.716280Z",
     "start_time": "2024-06-26T20:49:15.712785Z"
    }
   },
   "cell_type": "code",
   "source": [
    "def loss_fcn(target, prediction):\n",
    "    # Create mask so that the zero padding values are not included in the computation of loss\n",
    "    padding_mask = tf.math.logical_not(equal(target, 0))\n",
    "    padding_mask = tf.cast(padding_mask, tf.float32)\n",
    " \n",
    "    # Compute a sparse categorical cross-entropy loss on the unmasked values\n",
    "    loss = tf.keras.losses.SparseCategoricalCrossentropy(target, prediction, from_logits=True) * padding_mask\n",
    " \n",
    "    # Compute the mean loss over the unmasked values\n",
    "    return tf.math.reduce_sum(loss) / tf.math.reduce_sum(padding_mask)"
   ],
   "id": "1153f6bd69b2a2f0",
   "outputs": [],
   "execution_count": 552
  },
  {
   "metadata": {
    "ExecuteTime": {
     "end_time": "2024-06-26T20:49:15.722599Z",
     "start_time": "2024-06-26T20:49:15.717288Z"
    }
   },
   "cell_type": "code",
   "source": [
    "def accuracy_fcn(target, prediction):\n",
    "    # Create mask so that the zero padding values are not included in the computation of accuracy\n",
    "    padding_mask = tf.math.logical_not(math.equal(target, 0))\n",
    "\n",
    "    # Find equal prediction and target values, and apply the padding mask\n",
    "    accuracy = tf.equal(target, argmax(prediction, axis=2))\n",
    "    accuracy = tf.math.logical_and(padding_mask, accuracy)\n",
    "\n",
    "    # Cast the True/False values to 32-bit-precision floating-point numbers\n",
    "    padding_mask = tf.cast(padding_mask, tf.float32)\n",
    "    accuracy = tf.cast(accuracy, tf.float32)\n",
    "\n",
    "    # Compute the mean accuracy over the unmasked values\n",
    "    return tf.mathreduce_sum(accuracy) / tf.math.reduce_sum(padding_mask)"
   ],
   "id": "4a138e8c53e5b85f",
   "outputs": [],
   "execution_count": 553
  },
  {
   "metadata": {},
   "cell_type": "markdown",
   "source": "# Training",
   "id": "c4a9cab1be7f4a12"
  },
  {
   "metadata": {
    "ExecuteTime": {
     "end_time": "2024-06-26T20:49:15.728636Z",
     "start_time": "2024-06-26T20:49:15.723611Z"
    }
   },
   "cell_type": "code",
   "source": [
    "# Define the model parameters\n",
    "h = 8  # Number of self-attention heads\n",
    "d_k = 64  # Dimensionality of the linearly projected queries and keys\n",
    "d_v = 64  # Dimensionality of the linearly projected values\n",
    "d_model = 512  # Dimensionality of model layers' outputs\n",
    "d_ff = 2048  # Dimensionality of the inner fully connected layer\n",
    "n = 6  # Number of layers in the encoder stack\n",
    "\n",
    "# Define the training parameters\n",
    "epochs = 2\n",
    "batch_size = 64\n",
    "beta_1 = 0.9\n",
    "beta_2 = 0.98\n",
    "epsilon = 1e-9\n",
    "dropout_rate = 0.1"
   ],
   "id": "3a367b36f4cc8593",
   "outputs": [],
   "execution_count": 554
  },
  {
   "metadata": {
    "ExecuteTime": {
     "end_time": "2024-06-26T20:49:15.735987Z",
     "start_time": "2024-06-26T20:49:15.729646Z"
    }
   },
   "cell_type": "code",
   "source": [
    "optimizer = tf.keras.optimizers.Adam(0.001, \n",
    "                                     beta_1, \n",
    "                                     beta_2, \n",
    "                                     epsilon)"
   ],
   "id": "220fe1bdb2642ce7",
   "outputs": [],
   "execution_count": 555
  },
  {
   "metadata": {
    "ExecuteTime": {
     "end_time": "2024-06-26T20:49:15.742959Z",
     "start_time": "2024-06-26T20:49:15.736997Z"
    }
   },
   "cell_type": "code",
   "source": [
    "train_dataset = tf.data.Dataset.from_tensor_slices((trainX, trainY))\n",
    "train_dataset = train_dataset.batch(batch_size)"
   ],
   "id": "76d61a6f76258d27",
   "outputs": [],
   "execution_count": 556
  },
  {
   "metadata": {
    "ExecuteTime": {
     "end_time": "2024-06-26T20:49:20.988647Z",
     "start_time": "2024-06-26T20:49:15.743976Z"
    }
   },
   "cell_type": "code",
   "source": [
    "training_model = TransformerModel(enc_vocab_size, \n",
    "                                  dec_vocab_size, \n",
    "                                  enc_seq_length, \n",
    "                                  dec_seq_length, \n",
    "                                  h, \n",
    "                                  d_q,\n",
    "                                  d_k, \n",
    "                                  d_v, \n",
    "                                  d_model, \n",
    "                                  d_ff, \n",
    "                                  n, \n",
    "                                  dropout_rate)\n",
    " "
   ],
   "id": "9f0d9f34b5e59f17",
   "outputs": [],
   "execution_count": 557
  },
  {
   "metadata": {
    "ExecuteTime": {
     "end_time": "2024-06-26T20:49:20.999787Z",
     "start_time": "2024-06-26T20:49:20.989441Z"
    }
   },
   "cell_type": "code",
   "source": [
    "train_loss = tf.keras.metrics.Mean(name='train_loss')\n",
    "train_accuracy = tf.keras.metrics.Mean(name='train_accuracy')\n"
   ],
   "id": "261fe0d4ff57b0b",
   "outputs": [],
   "execution_count": 558
  },
  {
   "metadata": {
    "ExecuteTime": {
     "end_time": "2024-06-26T20:49:21.071578Z",
     "start_time": "2024-06-26T20:49:21.001077Z"
    }
   },
   "cell_type": "code",
   "source": [
    "# Speeding up the training process\n",
    "@tf.function\n",
    "def train_step(encoder_input, decoder_input, decoder_output):\n",
    "    with tf.GradientTape() as tape:\n",
    "\n",
    "        # Run the forward pass of the model to generate a prediction\n",
    "        prediction = training_model(encoder_input, decoder_input, decoder_output,training=True)\n",
    "\n",
    "        # Compute the training loss\n",
    "        loss = loss_fcn(decoder_output, prediction)\n",
    "\n",
    "        # Compute the training accuracy\n",
    "        accuracy = accuracy_fcn(decoder_output, prediction)\n",
    "\n",
    "    # Retrieve gradients of the trainable variables with respect to the training loss\n",
    "    gradients = tape.gradient(loss, training_model.trainable_weights)\n",
    "\n",
    "    # Update the values of the trainable variables by gradient descent\n",
    "    optimizer.apply_gradients(zip(gradients, training_model.trainable_weights))\n",
    "\n",
    "    train_loss(loss)\n",
    "    train_accuracy(accuracy)\n",
    "\n",
    "\n",
    "for epoch in range(epochs):\n",
    "\n",
    "    train_loss.reset_states()\n",
    "    train_accuracy.reset_states()\n",
    "\n",
    "    print(\"\\nStart of epoch %d\" % (epoch + 1))\n",
    "\n",
    "    # Iterate over the dataset batches\n",
    "    for step, (train_batchX, train_batchY) in enumerate(train_dataset):\n",
    "\n",
    "        # Define the encoder and decoder inputs, and the decoder output\n",
    "        encoder_input = train_batchX[:, 1:]\n",
    "        decoder_input = train_batchY[:, :-1]\n",
    "        decoder_output = train_batchY[:, 1:]\n",
    "\n",
    "        train_step(encoder_input, decoder_input, decoder_output)\n",
    "\n",
    "        if step % 50 == 0:\n",
    "            print(f'Epoch {epoch + 1} Step {step} Loss {train_loss.result():.4f} Accuracy {train_accuracy.result():.4f}')\n",
    "            # print(\"Samples so far: %s\" % ((step + 1) * batch_size))\n",
    "\n",
    "    # Print epoch number and loss value at the end of every epoch\n",
    "    print(\"Epoch %d: Training Loss %.4f, Training Accuracy %.4f\" % (epoch + 1, train_loss.result(), train_accuracy.result()))"
   ],
   "id": "455510dd7045495b",
   "outputs": [
    {
     "name": "stdout",
     "output_type": "stream",
     "text": [
      "\n",
      "Start of epoch 1\n"
     ]
    },
    {
     "ename": "TypeError",
     "evalue": "in user code:\n\n    File \"C:\\Users\\Dell\\AppData\\Local\\Temp\\ipykernel_3428\\3123495666.py\", line 7, in train_step  *\n        prediction = training_model(encoder_input, decoder_input, decoder_output,training=True)\n    File \"C:\\Users\\Dell\\AppData\\Local\\Temp\\ipykernel_3428\\246144039.py\", line 69, in __call__  *\n        enc_padding_mask = self.padding_mask(encoder_input)\n    File \"C:\\Users\\Dell\\AppData\\Local\\Temp\\ipykernel_3428\\775414444.py\", line 54, in padding_mask  *\n        return mask[:, tf.expand_dims(axis = -1), tf.expand_dims(axis = -1), :]\n\n    TypeError: Missing required positional argument\n",
     "output_type": "error",
     "traceback": [
      "\u001B[1;31m---------------------------------------------------------------------------\u001B[0m",
      "\u001B[1;31mTypeError\u001B[0m                                 Traceback (most recent call last)",
      "Cell \u001B[1;32mIn[559], line 40\u001B[0m\n\u001B[0;32m     37\u001B[0m decoder_input \u001B[38;5;241m=\u001B[39m train_batchY[:, :\u001B[38;5;241m-\u001B[39m\u001B[38;5;241m1\u001B[39m]\n\u001B[0;32m     38\u001B[0m decoder_output \u001B[38;5;241m=\u001B[39m train_batchY[:, \u001B[38;5;241m1\u001B[39m:]\n\u001B[1;32m---> 40\u001B[0m \u001B[43mtrain_step\u001B[49m\u001B[43m(\u001B[49m\u001B[43mencoder_input\u001B[49m\u001B[43m,\u001B[49m\u001B[43m \u001B[49m\u001B[43mdecoder_input\u001B[49m\u001B[43m,\u001B[49m\u001B[43m \u001B[49m\u001B[43mdecoder_output\u001B[49m\u001B[43m)\u001B[49m\n\u001B[0;32m     42\u001B[0m \u001B[38;5;28;01mif\u001B[39;00m step \u001B[38;5;241m%\u001B[39m \u001B[38;5;241m50\u001B[39m \u001B[38;5;241m==\u001B[39m \u001B[38;5;241m0\u001B[39m:\n\u001B[0;32m     43\u001B[0m     \u001B[38;5;28mprint\u001B[39m(\u001B[38;5;124mf\u001B[39m\u001B[38;5;124m'\u001B[39m\u001B[38;5;124mEpoch \u001B[39m\u001B[38;5;132;01m{\u001B[39;00mepoch\u001B[38;5;250m \u001B[39m\u001B[38;5;241m+\u001B[39m\u001B[38;5;250m \u001B[39m\u001B[38;5;241m1\u001B[39m\u001B[38;5;132;01m}\u001B[39;00m\u001B[38;5;124m Step \u001B[39m\u001B[38;5;132;01m{\u001B[39;00mstep\u001B[38;5;132;01m}\u001B[39;00m\u001B[38;5;124m Loss \u001B[39m\u001B[38;5;132;01m{\u001B[39;00mtrain_loss\u001B[38;5;241m.\u001B[39mresult()\u001B[38;5;132;01m:\u001B[39;00m\u001B[38;5;124m.4f\u001B[39m\u001B[38;5;132;01m}\u001B[39;00m\u001B[38;5;124m Accuracy \u001B[39m\u001B[38;5;132;01m{\u001B[39;00mtrain_accuracy\u001B[38;5;241m.\u001B[39mresult()\u001B[38;5;132;01m:\u001B[39;00m\u001B[38;5;124m.4f\u001B[39m\u001B[38;5;132;01m}\u001B[39;00m\u001B[38;5;124m'\u001B[39m)\n",
      "File \u001B[1;32m~\\Desktop\\Files\\PycharmProjects\\ML-Tutorial\\ML-Tutorial\\venv\\Lib\\site-packages\\tensorflow\\python\\util\\traceback_utils.py:153\u001B[0m, in \u001B[0;36mfilter_traceback.<locals>.error_handler\u001B[1;34m(*args, **kwargs)\u001B[0m\n\u001B[0;32m    151\u001B[0m \u001B[38;5;28;01mexcept\u001B[39;00m \u001B[38;5;167;01mException\u001B[39;00m \u001B[38;5;28;01mas\u001B[39;00m e:\n\u001B[0;32m    152\u001B[0m   filtered_tb \u001B[38;5;241m=\u001B[39m _process_traceback_frames(e\u001B[38;5;241m.\u001B[39m__traceback__)\n\u001B[1;32m--> 153\u001B[0m   \u001B[38;5;28;01mraise\u001B[39;00m e\u001B[38;5;241m.\u001B[39mwith_traceback(filtered_tb) \u001B[38;5;28;01mfrom\u001B[39;00m \u001B[38;5;28;01mNone\u001B[39;00m\n\u001B[0;32m    154\u001B[0m \u001B[38;5;28;01mfinally\u001B[39;00m:\n\u001B[0;32m    155\u001B[0m   \u001B[38;5;28;01mdel\u001B[39;00m filtered_tb\n",
      "File \u001B[1;32m~\\AppData\\Local\\Temp\\__autograph_generated_filexgex_w83.py:9\u001B[0m, in \u001B[0;36mouter_factory.<locals>.inner_factory.<locals>.tf__train_step\u001B[1;34m(encoder_input, decoder_input, decoder_output)\u001B[0m\n\u001B[0;32m      7\u001B[0m \u001B[38;5;28;01mwith\u001B[39;00m ag__\u001B[38;5;241m.\u001B[39mFunctionScope(\u001B[38;5;124m'\u001B[39m\u001B[38;5;124mtrain_step\u001B[39m\u001B[38;5;124m'\u001B[39m, \u001B[38;5;124m'\u001B[39m\u001B[38;5;124mfscope\u001B[39m\u001B[38;5;124m'\u001B[39m, ag__\u001B[38;5;241m.\u001B[39mConversionOptions(recursive\u001B[38;5;241m=\u001B[39m\u001B[38;5;28;01mTrue\u001B[39;00m, user_requested\u001B[38;5;241m=\u001B[39m\u001B[38;5;28;01mTrue\u001B[39;00m, optional_features\u001B[38;5;241m=\u001B[39m(), internal_convert_user_code\u001B[38;5;241m=\u001B[39m\u001B[38;5;28;01mTrue\u001B[39;00m)) \u001B[38;5;28;01mas\u001B[39;00m fscope:\n\u001B[0;32m      8\u001B[0m     \u001B[38;5;28;01mwith\u001B[39;00m ag__\u001B[38;5;241m.\u001B[39mld(tf)\u001B[38;5;241m.\u001B[39mGradientTape() \u001B[38;5;28;01mas\u001B[39;00m tape:\n\u001B[1;32m----> 9\u001B[0m         prediction \u001B[38;5;241m=\u001B[39m \u001B[43mag__\u001B[49m\u001B[38;5;241;43m.\u001B[39;49m\u001B[43mconverted_call\u001B[49m\u001B[43m(\u001B[49m\u001B[43mag__\u001B[49m\u001B[38;5;241;43m.\u001B[39;49m\u001B[43mld\u001B[49m\u001B[43m(\u001B[49m\u001B[43mtraining_model\u001B[49m\u001B[43m)\u001B[49m\u001B[43m,\u001B[49m\u001B[43m \u001B[49m\u001B[43m(\u001B[49m\u001B[43mag__\u001B[49m\u001B[38;5;241;43m.\u001B[39;49m\u001B[43mld\u001B[49m\u001B[43m(\u001B[49m\u001B[43mencoder_input\u001B[49m\u001B[43m)\u001B[49m\u001B[43m,\u001B[49m\u001B[43m \u001B[49m\u001B[43mag__\u001B[49m\u001B[38;5;241;43m.\u001B[39;49m\u001B[43mld\u001B[49m\u001B[43m(\u001B[49m\u001B[43mdecoder_input\u001B[49m\u001B[43m)\u001B[49m\u001B[43m,\u001B[49m\u001B[43m \u001B[49m\u001B[43mag__\u001B[49m\u001B[38;5;241;43m.\u001B[39;49m\u001B[43mld\u001B[49m\u001B[43m(\u001B[49m\u001B[43mdecoder_output\u001B[49m\u001B[43m)\u001B[49m\u001B[43m)\u001B[49m\u001B[43m,\u001B[49m\u001B[43m \u001B[49m\u001B[38;5;28;43mdict\u001B[39;49m\u001B[43m(\u001B[49m\u001B[43mtraining\u001B[49m\u001B[38;5;241;43m=\u001B[39;49m\u001B[38;5;28;43;01mTrue\u001B[39;49;00m\u001B[43m)\u001B[49m\u001B[43m,\u001B[49m\u001B[43m \u001B[49m\u001B[43mfscope\u001B[49m\u001B[43m)\u001B[49m\n\u001B[0;32m     10\u001B[0m         loss \u001B[38;5;241m=\u001B[39m ag__\u001B[38;5;241m.\u001B[39mconverted_call(ag__\u001B[38;5;241m.\u001B[39mld(loss_fcn), (ag__\u001B[38;5;241m.\u001B[39mld(decoder_output), ag__\u001B[38;5;241m.\u001B[39mld(prediction)), \u001B[38;5;28;01mNone\u001B[39;00m, fscope)\n\u001B[0;32m     11\u001B[0m         accuracy \u001B[38;5;241m=\u001B[39m ag__\u001B[38;5;241m.\u001B[39mconverted_call(ag__\u001B[38;5;241m.\u001B[39mld(accuracy_fcn), (ag__\u001B[38;5;241m.\u001B[39mld(decoder_output), ag__\u001B[38;5;241m.\u001B[39mld(prediction)), \u001B[38;5;28;01mNone\u001B[39;00m, fscope)\n",
      "File \u001B[1;32m~\\AppData\\Local\\Temp\\__autograph_generated_filexnfxaj_5.py:10\u001B[0m, in \u001B[0;36mouter_factory.<locals>.inner_factory.<locals>.tf____call__\u001B[1;34m(self, encoder_input, decoder_input, decoder_output, training)\u001B[0m\n\u001B[0;32m      8\u001B[0m do_return \u001B[38;5;241m=\u001B[39m \u001B[38;5;28;01mFalse\u001B[39;00m\n\u001B[0;32m      9\u001B[0m retval_ \u001B[38;5;241m=\u001B[39m ag__\u001B[38;5;241m.\u001B[39mUndefinedReturnValue()\n\u001B[1;32m---> 10\u001B[0m enc_padding_mask \u001B[38;5;241m=\u001B[39m \u001B[43mag__\u001B[49m\u001B[38;5;241;43m.\u001B[39;49m\u001B[43mconverted_call\u001B[49m\u001B[43m(\u001B[49m\u001B[43mag__\u001B[49m\u001B[38;5;241;43m.\u001B[39;49m\u001B[43mld\u001B[49m\u001B[43m(\u001B[49m\u001B[38;5;28;43mself\u001B[39;49m\u001B[43m)\u001B[49m\u001B[38;5;241;43m.\u001B[39;49m\u001B[43mpadding_mask\u001B[49m\u001B[43m,\u001B[49m\u001B[43m \u001B[49m\u001B[43m(\u001B[49m\u001B[43mag__\u001B[49m\u001B[38;5;241;43m.\u001B[39;49m\u001B[43mld\u001B[49m\u001B[43m(\u001B[49m\u001B[43mencoder_input\u001B[49m\u001B[43m)\u001B[49m\u001B[43m,\u001B[49m\u001B[43m)\u001B[49m\u001B[43m,\u001B[49m\u001B[43m \u001B[49m\u001B[38;5;28;43;01mNone\u001B[39;49;00m\u001B[43m,\u001B[49m\u001B[43m \u001B[49m\u001B[43mfscope\u001B[49m\u001B[43m)\u001B[49m\n\u001B[0;32m     11\u001B[0m dec_in_padding_mask \u001B[38;5;241m=\u001B[39m ag__\u001B[38;5;241m.\u001B[39mconverted_call(ag__\u001B[38;5;241m.\u001B[39mld(\u001B[38;5;28mself\u001B[39m)\u001B[38;5;241m.\u001B[39mpadding_mask, (ag__\u001B[38;5;241m.\u001B[39mld(decoder_input),), \u001B[38;5;28;01mNone\u001B[39;00m, fscope)\n\u001B[0;32m     12\u001B[0m dec_in_lookahead_mask \u001B[38;5;241m=\u001B[39m ag__\u001B[38;5;241m.\u001B[39mconverted_call(ag__\u001B[38;5;241m.\u001B[39mld(\u001B[38;5;28mself\u001B[39m)\u001B[38;5;241m.\u001B[39mlookahead_mask, (ag__\u001B[38;5;241m.\u001B[39mld(decoder_input)\u001B[38;5;241m.\u001B[39mshape[\u001B[38;5;241m1\u001B[39m],), \u001B[38;5;28;01mNone\u001B[39;00m, fscope)\n",
      "File \u001B[1;32m~\\AppData\\Local\\Temp\\__autograph_generated_file9fzs5i7x.py:14\u001B[0m, in \u001B[0;36mouter_factory.<locals>.inner_factory.<locals>.tf__padding_mask\u001B[1;34m(self, input)\u001B[0m\n\u001B[0;32m     12\u001B[0m \u001B[38;5;28;01mtry\u001B[39;00m:\n\u001B[0;32m     13\u001B[0m     do_return \u001B[38;5;241m=\u001B[39m \u001B[38;5;28;01mTrue\u001B[39;00m\n\u001B[1;32m---> 14\u001B[0m     retval_ \u001B[38;5;241m=\u001B[39m ag__\u001B[38;5;241m.\u001B[39mld(mask)[:, ag__\u001B[38;5;241m.\u001B[39mconverted_call(ag__\u001B[38;5;241m.\u001B[39mld(tf)\u001B[38;5;241m.\u001B[39mexpand_dims, (), \u001B[38;5;28mdict\u001B[39m(axis\u001B[38;5;241m=\u001B[39m\u001B[38;5;241m-\u001B[39m\u001B[38;5;241m1\u001B[39m), fscope), ag__\u001B[38;5;241m.\u001B[39mconverted_call(ag__\u001B[38;5;241m.\u001B[39mld(tf)\u001B[38;5;241m.\u001B[39mexpand_dims, (), \u001B[38;5;28mdict\u001B[39m(axis\u001B[38;5;241m=\u001B[39m\u001B[38;5;241m-\u001B[39m\u001B[38;5;241m1\u001B[39m), fscope), :]\n\u001B[0;32m     15\u001B[0m \u001B[38;5;28;01mexcept\u001B[39;00m:\n\u001B[0;32m     16\u001B[0m     do_return \u001B[38;5;241m=\u001B[39m \u001B[38;5;28;01mFalse\u001B[39;00m\n",
      "\u001B[1;31mTypeError\u001B[0m: in user code:\n\n    File \"C:\\Users\\Dell\\AppData\\Local\\Temp\\ipykernel_3428\\3123495666.py\", line 7, in train_step  *\n        prediction = training_model(encoder_input, decoder_input, decoder_output,training=True)\n    File \"C:\\Users\\Dell\\AppData\\Local\\Temp\\ipykernel_3428\\246144039.py\", line 69, in __call__  *\n        enc_padding_mask = self.padding_mask(encoder_input)\n    File \"C:\\Users\\Dell\\AppData\\Local\\Temp\\ipykernel_3428\\775414444.py\", line 54, in padding_mask  *\n        return mask[:, tf.expand_dims(axis = -1), tf.expand_dims(axis = -1), :]\n\n    TypeError: Missing required positional argument\n"
     ]
    }
   ],
   "execution_count": 559
  }
 ],
 "metadata": {
  "kernelspec": {
   "display_name": "Python 3",
   "language": "python",
   "name": "python3"
  },
  "language_info": {
   "codemirror_mode": {
    "name": "ipython",
    "version": 2
   },
   "file_extension": ".py",
   "mimetype": "text/x-python",
   "name": "python",
   "nbconvert_exporter": "python",
   "pygments_lexer": "ipython2",
   "version": "2.7.6"
  }
 },
 "nbformat": 4,
 "nbformat_minor": 5
}
